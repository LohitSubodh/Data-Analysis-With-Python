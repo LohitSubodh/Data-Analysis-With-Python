{
  "nbformat": 4,
  "nbformat_minor": 0,
  "metadata": {
    "colab": {
      "name": "zerotopandas-course-project.ipynb",
      "provenance": [],
      "collapsed_sections": [],
      "include_colab_link": true
    },
    "kernelspec": {
      "display_name": "Python 3",
      "language": "python",
      "name": "python3"
    },
    "language_info": {
      "codemirror_mode": {
        "name": "ipython",
        "version": 3
      },
      "file_extension": ".py",
      "mimetype": "text/x-python",
      "name": "python",
      "nbconvert_exporter": "python",
      "pygments_lexer": "ipython3",
      "version": "3.8.5"
    }
  },
  "cells": [
    {
      "cell_type": "markdown",
      "metadata": {
        "id": "view-in-github",
        "colab_type": "text"
      },
      "source": [
        "<a href=\"https://colab.research.google.com/github/LohitSubodh/Data-analysis-with-python/blob/main/zerotopandas_course_project.ipynb\" target=\"_parent\"><img src=\"https://colab.research.google.com/assets/colab-badge.svg\" alt=\"Open In Colab\"/></a>"
      ]
    },
    {
      "cell_type": "code",
      "metadata": {
        "id": "E111Yoich-iP",
        "outputId": "3ba0a95f-a77d-40de-8eeb-6af97a1deb5b",
        "colab": {
          "base_uri": "https://localhost:8080/",
          "height": 50
        }
      },
      "source": [
        "# Jovian Commit Essentials\n",
        "# Please retain and execute this cell without modifying the contents for `jovian.commit` to work\n",
        "!pip install jovian --upgrade -q\n",
        "import jovian\n",
        "jovian.utils.colab.set_colab_file_id('1DxjrZgOH-xe8yyfOkdB5eGfhTq9Bxcp8')"
      ],
      "execution_count": null,
      "outputs": [
        {
          "output_type": "stream",
          "text": [
            "\u001b[?25l\r\u001b[K     |█████                           | 10kB 20.7MB/s eta 0:00:01\r\u001b[K     |██████████▏                     | 20kB 1.9MB/s eta 0:00:01\r\u001b[K     |███████████████▏                | 30kB 2.5MB/s eta 0:00:01\r\u001b[K     |████████████████████▎           | 40kB 2.8MB/s eta 0:00:01\r\u001b[K     |█████████████████████████▎      | 51kB 2.2MB/s eta 0:00:01\r\u001b[K     |██████████████████████████████▍ | 61kB 2.5MB/s eta 0:00:01\r\u001b[K     |████████████████████████████████| 71kB 2.2MB/s \n",
            "\u001b[?25h  Building wheel for uuid (setup.py) ... \u001b[?25l\u001b[?25hdone\n"
          ],
          "name": "stdout"
        }
      ]
    },
    {
      "cell_type": "markdown",
      "metadata": {
        "id": "-zVnhe_gRGRm"
      },
      "source": [
        "### Data Analysis with Python: Zero to Pandas - Course Project Guidelines\n",
        "#### (remove this cell before submission)\n",
        "\n",
        "Make submissions here:  https://jovian.ml/learn/data-analysis-with-python-zero-to-pandas/assignment/course-project\n",
        "\n",
        "This is the starter notebook for the course project for [Data Analysis with Python: Zero to Pandas](https://jovian.ml/learn/data-analysis-with-python-zero-to-pandas). For the course project, you will pick a real-world dataset of your choice and apply the concepts learned in this course to perform exploratory data analysis. Use this starter notebook as an outline for your project (you can also start with an empty new notebook). Focus on documentation and presentation - this Jupyter notebook will also serve as a project report, so make sure to include detailed explanations whererver possible using Markdown cells.\n",
        "\n",
        "#### Step 1: Select a real-world dataset \n",
        "\n",
        "- Find and download an interesting real-world dataset (see the Recommended Datasets section below for ideas). \n",
        "\n",
        "- The dataset should contain tabular data (rowsn & columns), preferably in CSV/JSON/XLS or other formats that can be read using Pandas. If it's not in a compatible format, you may have to write some code to convert it to a desired format.\n",
        "- The dataset should contain at least 3 columns and 150 rows of data. You can also combine data from multiple sources to create a large enough dataset.\n",
        "\n",
        "\n",
        "#### Step 2: Perform data preparation & cleaning\n",
        "\n",
        "- Load the dataset into a data frame using Pandas\n",
        "- Explore the number of rows & columns, ranges of values etc.\n",
        "- Handle missing, incorrect and invalid data\n",
        "- Perform any additional steps (parsing dates, creating additional columns, merging multiple dataset etc.)\n",
        "\n",
        "\n",
        "#### Step 3: Perform exploratory Analysis & Visualization\n",
        "\n",
        "- Compute the mean, sum, range and other interesting statistics for numeric columns\n",
        "- Explore distributions of numeric columns using histograms etc.\n",
        "- Explore relationship between columns using scatter plots, bar charts etc.\n",
        "- Make a note of interesting insights from the exploratory analysis\n",
        "\n",
        "#### Step 4: Ask & answer questions about the data\n",
        "\n",
        "- Ask at least 5 interesting questions about your dataset\n",
        "- Answer the questions either by computing the results using Numpy/Pandas or by plotting graphs using Matplotlib/Seaborn\n",
        "- Create new columns, merge multiple dataset and perform grouping/aggregation wherever necessary\n",
        "- Wherever you're using a library function from Pandas/Numpy/Matplotlib etc. explain briefly what it does\n",
        "\n",
        "\n",
        "#### Step 5: Summarize your inferences & write a conclusion\n",
        "\n",
        "- Write a summary of what you've learned from the analysis\n",
        "- Include interesting insights and graphs from previous sections\n",
        "- Share ideas for future work on the same topic using other relevant datasets\n",
        "- Share links to resources you found useful during your analysis\n",
        "\n",
        "\n",
        "#### Step 6: Make a submission & share your work\n",
        "\n",
        "- Upload your notebook to your Jovian.ml profile using `jovian.commit`.\n",
        "- **Make a submission here**: https://jovian.ml/learn/data-analysis-with-python-zero-to-pandas/assignment/course-project\n",
        "- Share your work on the forum: https://jovian.ml/forum/t/course-project-on-exploratory-data-analysis-discuss-and-share-your-work/11684\n",
        "\n",
        "- Browse through projects shared by other participants and give feedback\n",
        "\n",
        "\n",
        "#### (Optional) Step 7: Write a blog post\n",
        "\n",
        "- A blog post is a great way to present and showcase your work.  \n",
        "- Sign up on [Medium.com](https://medium.com) to write a blog post for your project.\n",
        "- Copy over the explanations from your Jupyter notebook into your blog post, and [embed code cells & outputs](https://medium.com/jovianml/share-and-embed-jupyter-notebooks-online-with-jovian-ml-df709a03064e)\n",
        "- Check out the Jovian.ml Medium publication for inspiration: https://medium.com/jovianml\n",
        "\n",
        "\n",
        "\n",
        "### Recommended Datasets\n",
        "\n",
        "\n",
        "Use the following resources for finding interesting datasets:\n",
        "\n",
        "- [Recommended datasets for the course project](https://jovian.ml/forum/t/recommended-datasets-for-course-project/11711)\n",
        "- [Kaggle datasets](https://www.kaggle.com/datasets)\n",
        "- [UCI Machine Learning Repository](http://archive.ics.uci.edu/ml/index.php)\n",
        "- [awesome-public-datasets](https://github.com/awesomedata/awesome-public-datasets)\n",
        "- [Google Dataset Search](https://datasetsearch.research.google.com)\n",
        "- [Your personal data from online services](https://www.popsci.com/download-digital-personal-information/)\n",
        "\n",
        "\n",
        "\n",
        "### Example Projects\n",
        "\n",
        "Refer to these projects for inspiration:\n",
        "\n",
        "* [Analyzing your browser history using Pandas & Seaborn](https://medium.com/free-code-camp/understanding-my-browsing-pattern-using-pandas-and-seaborn-162b97e33e51) by Kartik Godawat\n",
        "\n",
        "* [WhatsApp Chat Data Analysis](https://jovian.ml/PrajwalPrashanth/whatsapp-chat-data-analysis) by Prajwal Prashanth\n",
        "\n",
        "* [Analyzing Covid-19 data using Pandas](https://jovian.ml/aakashns/python-pandas-data-analysis) \n",
        "\n",
        "* [Understanding the Gender Divide in Data Science Roles](https://medium.com/datadriveninvestor/exploratory-data-analysis-eda-understanding-the-gender-divide-in-data-science-roles-9faa5da44f5b) by Aakanksha N S\n",
        "\n",
        "* [2019 State of Javscript Survey Results](https://2019.stateofjs.com/demographics/)\n",
        "\n",
        "* [2020 Stack Overflow Developer Survey Results](https://insights.stackoverflow.com/survey/2020)\n",
        "\n",
        "\n",
        "### Evaluation Criteria\n",
        "\n",
        "Your submission will be evaluated using the following criteria:\n",
        "\n",
        "* Dataset must contain at least 3 columns and 150 rows of data\n",
        "* You must ask and answer at least 5 questions about the dataset\n",
        "* Your submission must include at least 5 visualizations (graphs)\n",
        "* Your submission must include explanations using markdown cells, apart from the code.\n",
        "* Your work must not be plagiarized i.e. copy-pasted for somewhere else.\n",
        "\n",
        "\n",
        "**NOTE**: Remove this cell containing the instructions before making your submission. You can do using the \"Edit > Delete Cells\" menu option."
      ]
    },
    {
      "cell_type": "markdown",
      "metadata": {
        "id": "V04UTYgcRGRn"
      },
      "source": [
        "# Project Title\n",
        "\n",
        "Write some introduction about your project here: describe the dataset, where you got it from, what you're trying to do with it, and which tools & techniques you're using. You can also mention about [the course](http://zerotopandas.com), and what you've learned from it.\n",
        "\n",
        "As a first step, let's upload our Jupyter notebook to [Jovian.ml](https://jovian.ml)."
      ]
    },
    {
      "cell_type": "markdown",
      "metadata": {
        "id": "BvKYPOK_3Xqx"
      },
      "source": [
        "The IPL2020 tweets dataset is obtained from dataworl.com. It contains user tweets and their information."
      ]
    },
    {
      "cell_type": "code",
      "metadata": {
        "id": "rhkedYmuRGRo"
      },
      "source": [
        "project_name = \"zerotopandas-course-project-lohit\" # change this"
      ],
      "execution_count": null,
      "outputs": []
    },
    {
      "cell_type": "code",
      "metadata": {
        "id": "iaCc1YiQRGRq"
      },
      "source": [
        "!pip install jovian --upgrade -q"
      ],
      "execution_count": null,
      "outputs": []
    },
    {
      "cell_type": "code",
      "metadata": {
        "id": "0Sk0ZCwfRGRt"
      },
      "source": [
        "import jovian"
      ],
      "execution_count": null,
      "outputs": []
    },
    {
      "cell_type": "code",
      "metadata": {
        "id": "kAYvVdxpRGRy",
        "outputId": "6881c08a-1212-4640-d4af-865b6c0ee00e",
        "colab": {
          "base_uri": "https://localhost:8080/",
          "height": 86
        }
      },
      "source": [
        "jovian.commit(project=project_name)"
      ],
      "execution_count": null,
      "outputs": [
        {
          "output_type": "stream",
          "text": [
            "[jovian] Detected Colab notebook...\u001b[0m\n",
            "[jovian] Uploading colab notebook to Jovian...\u001b[0m\n",
            "[jovian] Committed successfully! https://jovian.ml/2017meb1219/zerotopandas-course-project-lohit\u001b[0m\n"
          ],
          "name": "stdout"
        },
        {
          "output_type": "execute_result",
          "data": {
            "application/vnd.google.colaboratory.intrinsic+json": {
              "type": "string"
            },
            "text/plain": [
              "'https://jovian.ml/2017meb1219/zerotopandas-course-project-lohit'"
            ]
          },
          "metadata": {
            "tags": []
          },
          "execution_count": 47
        }
      ]
    },
    {
      "cell_type": "markdown",
      "metadata": {
        "id": "1115hUcrRGR5"
      },
      "source": [
        "## Data Preparation and Cleaning\n",
        "\n",
        "TODO"
      ]
    },
    {
      "cell_type": "code",
      "metadata": {
        "id": "cA7GVUeyRGR6"
      },
      "source": [
        "import pandas as pd\n",
        "import numpy as np"
      ],
      "execution_count": null,
      "outputs": []
    },
    {
      "cell_type": "code",
      "metadata": {
        "id": "7PtmfBGHalzR",
        "outputId": "4bd46cdb-cabc-430b-d38e-865cc7ddc07f",
        "colab": {
          "base_uri": "https://localhost:8080/",
          "height": 34
        }
      },
      "source": [
        "from google.colab import drive\n",
        "drive.mount('/content/drive')"
      ],
      "execution_count": null,
      "outputs": [
        {
          "output_type": "stream",
          "text": [
            "Mounted at /content/drive\n"
          ],
          "name": "stdout"
        }
      ]
    },
    {
      "cell_type": "code",
      "metadata": {
        "id": "YubrNTjrRGSF",
        "outputId": "00932838-4849-42ed-debc-df967eae38a9",
        "colab": {
          "base_uri": "https://localhost:8080/",
          "height": 518
        }
      },
      "source": [
        "ipl_df=pd.read_csv('/content/drive/My Drive/IPL2020_Tweets.csv')\n",
        "ipl_df.head()"
      ],
      "execution_count": null,
      "outputs": [
        {
          "output_type": "execute_result",
          "data": {
            "text/html": [
              "<div>\n",
              "<style scoped>\n",
              "    .dataframe tbody tr th:only-of-type {\n",
              "        vertical-align: middle;\n",
              "    }\n",
              "\n",
              "    .dataframe tbody tr th {\n",
              "        vertical-align: top;\n",
              "    }\n",
              "\n",
              "    .dataframe thead th {\n",
              "        text-align: right;\n",
              "    }\n",
              "</style>\n",
              "<table border=\"1\" class=\"dataframe\">\n",
              "  <thead>\n",
              "    <tr style=\"text-align: right;\">\n",
              "      <th></th>\n",
              "      <th>user_name</th>\n",
              "      <th>user_location</th>\n",
              "      <th>user_description</th>\n",
              "      <th>user_created</th>\n",
              "      <th>user_followers</th>\n",
              "      <th>user_friends</th>\n",
              "      <th>user_favourites</th>\n",
              "      <th>user_verified</th>\n",
              "      <th>date</th>\n",
              "      <th>text</th>\n",
              "      <th>hashtags</th>\n",
              "      <th>source</th>\n",
              "      <th>is_retweet</th>\n",
              "    </tr>\n",
              "  </thead>\n",
              "  <tbody>\n",
              "    <tr>\n",
              "      <th>0</th>\n",
              "      <td>Karthik Raaj</td>\n",
              "      <td>Bangalore, India</td>\n",
              "      <td>Ambivert | Business Professional | Creator's C...</td>\n",
              "      <td>2019-05-29 07:00:40</td>\n",
              "      <td>8</td>\n",
              "      <td>22</td>\n",
              "      <td>53</td>\n",
              "      <td>False</td>\n",
              "      <td>2020-09-09 14:42:01</td>\n",
              "      <td>The Yellow craze begins again, after the long ...</td>\n",
              "      <td>['Yellove']</td>\n",
              "      <td>Twitter for Android</td>\n",
              "      <td>False</td>\n",
              "    </tr>\n",
              "    <tr>\n",
              "      <th>1</th>\n",
              "      <td>ImDinesh Raina</td>\n",
              "      <td>Karaikkudi, TamilNadu ,India</td>\n",
              "      <td>❤யாதும் ஊரே யாவரும் கேளிர்💚\\n❤SureshRaina &amp; MS...</td>\n",
              "      <td>2018-04-01 10:42:42</td>\n",
              "      <td>116</td>\n",
              "      <td>105</td>\n",
              "      <td>13351</td>\n",
              "      <td>False</td>\n",
              "      <td>2020-09-09 14:41:33</td>\n",
              "      <td>• Everything is fine in @ChennaiIPL \\n• Player...</td>\n",
              "      <td>NaN</td>\n",
              "      <td>Twitter for Android</td>\n",
              "      <td>False</td>\n",
              "    </tr>\n",
              "    <tr>\n",
              "      <th>2</th>\n",
              "      <td>SpotboyE</td>\n",
              "      <td>Mumbai</td>\n",
              "      <td>Hungry for Bollywood news? SpotboyE is your go...</td>\n",
              "      <td>2014-07-01 06:53:24</td>\n",
              "      <td>571704</td>\n",
              "      <td>695</td>\n",
              "      <td>4696</td>\n",
              "      <td>True</td>\n",
              "      <td>2020-09-09 14:41:30</td>\n",
              "      <td>Besides millions of #MSDhoni’s fans across the...</td>\n",
              "      <td>['MSDhoni']</td>\n",
              "      <td>Twitter Web App</td>\n",
              "      <td>False</td>\n",
              "    </tr>\n",
              "    <tr>\n",
              "      <th>3</th>\n",
              "      <td>lordlygem</td>\n",
              "      <td>NaN</td>\n",
              "      <td>Mairu bio🙃🙃</td>\n",
              "      <td>2020-07-09 06:01:42</td>\n",
              "      <td>5</td>\n",
              "      <td>58</td>\n",
              "      <td>103</td>\n",
              "      <td>False</td>\n",
              "      <td>2020-09-09 14:41:24</td>\n",
              "      <td>@Ishmenon @IPL choose your fav and follow uppu...</td>\n",
              "      <td>['IPL2020']</td>\n",
              "      <td>Twitter for iPhone</td>\n",
              "      <td>False</td>\n",
              "    </tr>\n",
              "    <tr>\n",
              "      <th>4</th>\n",
              "      <td>jigar sharma</td>\n",
              "      <td>NaN</td>\n",
              "      <td>NaN</td>\n",
              "      <td>2013-11-12 04:58:26</td>\n",
              "      <td>0</td>\n",
              "      <td>9</td>\n",
              "      <td>13</td>\n",
              "      <td>False</td>\n",
              "      <td>2020-09-09 14:41:22</td>\n",
              "      <td>Let's make 1Million before 19th Sept #RCBInsid...</td>\n",
              "      <td>['RCBInsider', 'royalchallengersbangalore', 'R...</td>\n",
              "      <td>Twitter Web App</td>\n",
              "      <td>False</td>\n",
              "    </tr>\n",
              "  </tbody>\n",
              "</table>\n",
              "</div>"
            ],
            "text/plain": [
              "        user_name  ... is_retweet\n",
              "0    Karthik Raaj  ...      False\n",
              "1  ImDinesh Raina  ...      False\n",
              "2        SpotboyE  ...      False\n",
              "3       lordlygem  ...      False\n",
              "4    jigar sharma  ...      False\n",
              "\n",
              "[5 rows x 13 columns]"
            ]
          },
          "metadata": {
            "tags": []
          },
          "execution_count": 8
        }
      ]
    },
    {
      "cell_type": "code",
      "metadata": {
        "id": "sMXGc-R6RGSH",
        "outputId": "257bde6e-2e0f-4bbb-cbad-3a712af676f1",
        "colab": {
          "base_uri": "https://localhost:8080/",
          "height": 34
        }
      },
      "source": [
        "ipl_df.shape"
      ],
      "execution_count": null,
      "outputs": [
        {
          "output_type": "execute_result",
          "data": {
            "text/plain": [
              "(38042, 13)"
            ]
          },
          "metadata": {
            "tags": []
          },
          "execution_count": 9
        }
      ]
    },
    {
      "cell_type": "markdown",
      "metadata": {
        "id": "sii4uPQ5jpyn"
      },
      "source": [
        "Printing all columns in the dataset."
      ]
    },
    {
      "cell_type": "code",
      "metadata": {
        "id": "-DzDDN32ia_G",
        "outputId": "4ade6d51-50d2-4ddf-c41f-8779215c12a4",
        "colab": {
          "base_uri": "https://localhost:8080/",
          "height": 84
        }
      },
      "source": [
        "ipl_df.columns"
      ],
      "execution_count": null,
      "outputs": [
        {
          "output_type": "execute_result",
          "data": {
            "text/plain": [
              "Index(['user_name', 'user_location', 'user_description', 'user_created',\n",
              "       'user_followers', 'user_friends', 'user_favourites', 'user_verified',\n",
              "       'date', 'text', 'hashtags', 'source', 'is_retweet'],\n",
              "      dtype='object')"
            ]
          },
          "metadata": {
            "tags": []
          },
          "execution_count": 10
        }
      ]
    },
    {
      "cell_type": "markdown",
      "metadata": {
        "id": "b62rm2y3jE4d"
      },
      "source": [
        "we change the column type by astype method.Below we change is_retweet column datatype from bool to int64."
      ]
    },
    {
      "cell_type": "code",
      "metadata": {
        "id": "bghq627hi1aE"
      },
      "source": [
        "ipl_df['is_retweet']=ipl_df['is_retweet'].astype('int64')"
      ],
      "execution_count": null,
      "outputs": []
    },
    {
      "cell_type": "markdown",
      "metadata": {
        "id": "wZu8S6rljzU6"
      },
      "source": [
        "We drop the NAN rows from the dataset using dropna method."
      ]
    },
    {
      "cell_type": "code",
      "metadata": {
        "id": "GZK_zydKccT4",
        "outputId": "e436eb5b-c678-4dd1-e2cd-2b0c38778074",
        "colab": {
          "base_uri": "https://localhost:8080/",
          "height": 34
        }
      },
      "source": [
        " ipl_df=ipl_df.dropna(how='any')\n",
        " ipl_df = ipl_df.reset_index(drop = True)\n",
        " ipl_df.shape"
      ],
      "execution_count": null,
      "outputs": [
        {
          "output_type": "execute_result",
          "data": {
            "text/plain": [
              "(20668, 12)"
            ]
          },
          "metadata": {
            "tags": []
          },
          "execution_count": 29
        }
      ]
    },
    {
      "cell_type": "markdown",
      "metadata": {
        "id": "4YUIIOV0j8R0"
      },
      "source": [
        "Sort the user_followers columns in descending order."
      ]
    },
    {
      "cell_type": "code",
      "metadata": {
        "id": "yheWu56NdMAf"
      },
      "source": [
        "ipl_df=ipl_df.sort_values('user_followers',ascending=False)"
      ],
      "execution_count": null,
      "outputs": []
    },
    {
      "cell_type": "markdown",
      "metadata": {
        "id": "krVqHKoFkE2G"
      },
      "source": [
        "Dropping the user_created column using drop method."
      ]
    },
    {
      "cell_type": "code",
      "metadata": {
        "id": "jJdBPTj5fGOP",
        "outputId": "676626ae-31b4-4657-987f-f5a77e91b1b0",
        "colab": {
          "base_uri": "https://localhost:8080/",
          "height": 430
        }
      },
      "source": [
        "\n",
        "ipl_df = ipl_df.drop(['user_created'],axis=1)\n",
        "ipl_df.head()"
      ],
      "execution_count": null,
      "outputs": [
        {
          "output_type": "execute_result",
          "data": {
            "text/html": [
              "<div>\n",
              "<style scoped>\n",
              "    .dataframe tbody tr th:only-of-type {\n",
              "        vertical-align: middle;\n",
              "    }\n",
              "\n",
              "    .dataframe tbody tr th {\n",
              "        vertical-align: top;\n",
              "    }\n",
              "\n",
              "    .dataframe thead th {\n",
              "        text-align: right;\n",
              "    }\n",
              "</style>\n",
              "<table border=\"1\" class=\"dataframe\">\n",
              "  <thead>\n",
              "    <tr style=\"text-align: right;\">\n",
              "      <th></th>\n",
              "      <th>user_name</th>\n",
              "      <th>user_location</th>\n",
              "      <th>user_description</th>\n",
              "      <th>user_followers</th>\n",
              "      <th>user_friends</th>\n",
              "      <th>user_favourites</th>\n",
              "      <th>user_verified</th>\n",
              "      <th>date</th>\n",
              "      <th>text</th>\n",
              "      <th>hashtags</th>\n",
              "      <th>source</th>\n",
              "      <th>is_retweet</th>\n",
              "    </tr>\n",
              "  </thead>\n",
              "  <tbody>\n",
              "    <tr>\n",
              "      <th>6948</th>\n",
              "      <td>NDTV</td>\n",
              "      <td>India</td>\n",
              "      <td>Breaking news alerts from India.\\n\\nInstagram:...</td>\n",
              "      <td>13655846</td>\n",
              "      <td>15</td>\n",
              "      <td>2</td>\n",
              "      <td>True</td>\n",
              "      <td>2020-09-04 08:08:33</td>\n",
              "      <td>#JustIn | #HarbhajanSingh pulls out of #IPL202...</td>\n",
              "      <td>['JustIn', 'HarbhajanSingh', 'IPL2020', 'Chenn...</td>\n",
              "      <td>Twitter Web App</td>\n",
              "      <td>0</td>\n",
              "    </tr>\n",
              "    <tr>\n",
              "      <th>6115</th>\n",
              "      <td>NDTV</td>\n",
              "      <td>India</td>\n",
              "      <td>Breaking news alerts from India.\\n\\nInstagram:...</td>\n",
              "      <td>13655683</td>\n",
              "      <td>15</td>\n",
              "      <td>2</td>\n",
              "      <td>True</td>\n",
              "      <td>2020-09-04 15:33:25</td>\n",
              "      <td>Watch | Harbhajan Singh pulls out of #IPL2020 ...</td>\n",
              "      <td>['IPL2020']</td>\n",
              "      <td>Twitter Media Studio - LiveCut</td>\n",
              "      <td>0</td>\n",
              "    </tr>\n",
              "    <tr>\n",
              "      <th>4393</th>\n",
              "      <td>NDTV</td>\n",
              "      <td>India</td>\n",
              "      <td>Breaking news alerts from India.\\n\\nInstagram:...</td>\n",
              "      <td>13655648</td>\n",
              "      <td>15</td>\n",
              "      <td>2</td>\n",
              "      <td>True</td>\n",
              "      <td>2020-09-06 11:38:14</td>\n",
              "      <td>Indian cricket board announces full schedule f...</td>\n",
              "      <td>['IPL2020']</td>\n",
              "      <td>Twitter Web App</td>\n",
              "      <td>0</td>\n",
              "    </tr>\n",
              "    <tr>\n",
              "      <th>13721</th>\n",
              "      <td>NDTV</td>\n",
              "      <td>India</td>\n",
              "      <td>Breaking news alerts from India.\\n\\nInstagram:...</td>\n",
              "      <td>13595555</td>\n",
              "      <td>15</td>\n",
              "      <td>2</td>\n",
              "      <td>True</td>\n",
              "      <td>2020-08-26 11:05:48</td>\n",
              "      <td>#NDTVExclusive | \"We should have the #IPL2020 ...</td>\n",
              "      <td>['NDTVExclusive', 'IPL2020']</td>\n",
              "      <td>Twitter Media Studio - LiveCut</td>\n",
              "      <td>0</td>\n",
              "    </tr>\n",
              "    <tr>\n",
              "      <th>13717</th>\n",
              "      <td>NDTV</td>\n",
              "      <td>India</td>\n",
              "      <td>Breaking news alerts from India.\\n\\nInstagram:...</td>\n",
              "      <td>13595555</td>\n",
              "      <td>15</td>\n",
              "      <td>2</td>\n",
              "      <td>True</td>\n",
              "      <td>2020-08-26 11:08:35</td>\n",
              "      <td>#NDTVExclusive | \"Making sure that the bubble ...</td>\n",
              "      <td>['NDTVExclusive']</td>\n",
              "      <td>Twitter Media Studio - LiveCut</td>\n",
              "      <td>0</td>\n",
              "    </tr>\n",
              "  </tbody>\n",
              "</table>\n",
              "</div>"
            ],
            "text/plain": [
              "      user_name user_location  ...                          source  is_retweet\n",
              "6948       NDTV         India  ...                 Twitter Web App           0\n",
              "6115       NDTV         India  ...  Twitter Media Studio - LiveCut           0\n",
              "4393       NDTV         India  ...                 Twitter Web App           0\n",
              "13721      NDTV         India  ...  Twitter Media Studio - LiveCut           0\n",
              "13717      NDTV         India  ...  Twitter Media Studio - LiveCut           0\n",
              "\n",
              "[5 rows x 12 columns]"
            ]
          },
          "metadata": {
            "tags": []
          },
          "execution_count": 14
        }
      ]
    },
    {
      "cell_type": "markdown",
      "metadata": {
        "id": "GC_ynayVwTSz"
      },
      "source": [
        "Adding a new column of user_ratings which is sum of user followers,user friends and user favourities"
      ]
    },
    {
      "cell_type": "code",
      "metadata": {
        "id": "mowazFCmvubS",
        "outputId": "cdb297f2-69a1-4cd1-cb1d-b29787a45e07",
        "colab": {
          "base_uri": "https://localhost:8080/",
          "height": 430
        }
      },
      "source": [
        "ipl_df['user_rating'] = ipl_df['user_followers'] + ipl_df['user_friends'] + \\\n",
        "                      + ipl_df['user_favourites']\n",
        "ipl_df.head()                      "
      ],
      "execution_count": null,
      "outputs": [
        {
          "output_type": "execute_result",
          "data": {
            "text/html": [
              "<div>\n",
              "<style scoped>\n",
              "    .dataframe tbody tr th:only-of-type {\n",
              "        vertical-align: middle;\n",
              "    }\n",
              "\n",
              "    .dataframe tbody tr th {\n",
              "        vertical-align: top;\n",
              "    }\n",
              "\n",
              "    .dataframe thead th {\n",
              "        text-align: right;\n",
              "    }\n",
              "</style>\n",
              "<table border=\"1\" class=\"dataframe\">\n",
              "  <thead>\n",
              "    <tr style=\"text-align: right;\">\n",
              "      <th></th>\n",
              "      <th>user_name</th>\n",
              "      <th>user_location</th>\n",
              "      <th>user_description</th>\n",
              "      <th>user_followers</th>\n",
              "      <th>user_friends</th>\n",
              "      <th>user_favourites</th>\n",
              "      <th>user_verified</th>\n",
              "      <th>date</th>\n",
              "      <th>text</th>\n",
              "      <th>hashtags</th>\n",
              "      <th>source</th>\n",
              "      <th>is_retweet</th>\n",
              "      <th>user_rating</th>\n",
              "    </tr>\n",
              "  </thead>\n",
              "  <tbody>\n",
              "    <tr>\n",
              "      <th>0</th>\n",
              "      <td>NDTV</td>\n",
              "      <td>India</td>\n",
              "      <td>Breaking news alerts from India.\\n\\nInstagram:...</td>\n",
              "      <td>13655846</td>\n",
              "      <td>15</td>\n",
              "      <td>2</td>\n",
              "      <td>True</td>\n",
              "      <td>2020-09-04 08:08:33</td>\n",
              "      <td>#JustIn | #HarbhajanSingh pulls out of #IPL202...</td>\n",
              "      <td>['JustIn', 'HarbhajanSingh', 'IPL2020', 'Chenn...</td>\n",
              "      <td>Twitter Web App</td>\n",
              "      <td>0</td>\n",
              "      <td>13655863</td>\n",
              "    </tr>\n",
              "    <tr>\n",
              "      <th>1</th>\n",
              "      <td>NDTV</td>\n",
              "      <td>India</td>\n",
              "      <td>Breaking news alerts from India.\\n\\nInstagram:...</td>\n",
              "      <td>13655683</td>\n",
              "      <td>15</td>\n",
              "      <td>2</td>\n",
              "      <td>True</td>\n",
              "      <td>2020-09-04 15:33:25</td>\n",
              "      <td>Watch | Harbhajan Singh pulls out of #IPL2020 ...</td>\n",
              "      <td>['IPL2020']</td>\n",
              "      <td>Twitter Media Studio - LiveCut</td>\n",
              "      <td>0</td>\n",
              "      <td>13655700</td>\n",
              "    </tr>\n",
              "    <tr>\n",
              "      <th>2</th>\n",
              "      <td>NDTV</td>\n",
              "      <td>India</td>\n",
              "      <td>Breaking news alerts from India.\\n\\nInstagram:...</td>\n",
              "      <td>13655648</td>\n",
              "      <td>15</td>\n",
              "      <td>2</td>\n",
              "      <td>True</td>\n",
              "      <td>2020-09-06 11:38:14</td>\n",
              "      <td>Indian cricket board announces full schedule f...</td>\n",
              "      <td>['IPL2020']</td>\n",
              "      <td>Twitter Web App</td>\n",
              "      <td>0</td>\n",
              "      <td>13655665</td>\n",
              "    </tr>\n",
              "    <tr>\n",
              "      <th>3</th>\n",
              "      <td>NDTV</td>\n",
              "      <td>India</td>\n",
              "      <td>Breaking news alerts from India.\\n\\nInstagram:...</td>\n",
              "      <td>13595555</td>\n",
              "      <td>15</td>\n",
              "      <td>2</td>\n",
              "      <td>True</td>\n",
              "      <td>2020-08-26 11:05:48</td>\n",
              "      <td>#NDTVExclusive | \"We should have the #IPL2020 ...</td>\n",
              "      <td>['NDTVExclusive', 'IPL2020']</td>\n",
              "      <td>Twitter Media Studio - LiveCut</td>\n",
              "      <td>0</td>\n",
              "      <td>13595572</td>\n",
              "    </tr>\n",
              "    <tr>\n",
              "      <th>4</th>\n",
              "      <td>NDTV</td>\n",
              "      <td>India</td>\n",
              "      <td>Breaking news alerts from India.\\n\\nInstagram:...</td>\n",
              "      <td>13595555</td>\n",
              "      <td>15</td>\n",
              "      <td>2</td>\n",
              "      <td>True</td>\n",
              "      <td>2020-08-26 11:08:35</td>\n",
              "      <td>#NDTVExclusive | \"Making sure that the bubble ...</td>\n",
              "      <td>['NDTVExclusive']</td>\n",
              "      <td>Twitter Media Studio - LiveCut</td>\n",
              "      <td>0</td>\n",
              "      <td>13595572</td>\n",
              "    </tr>\n",
              "  </tbody>\n",
              "</table>\n",
              "</div>"
            ],
            "text/plain": [
              "  user_name user_location  ... is_retweet  user_rating\n",
              "0      NDTV         India  ...          0     13655863\n",
              "1      NDTV         India  ...          0     13655700\n",
              "2      NDTV         India  ...          0     13655665\n",
              "3      NDTV         India  ...          0     13595572\n",
              "4      NDTV         India  ...          0     13595572\n",
              "\n",
              "[5 rows x 13 columns]"
            ]
          },
          "metadata": {
            "tags": []
          },
          "execution_count": 39
        }
      ]
    },
    {
      "cell_type": "markdown",
      "metadata": {
        "id": "oGCldAaNjf6h"
      },
      "source": [
        "info method gives generic informtaion about dataframe."
      ]
    },
    {
      "cell_type": "code",
      "metadata": {
        "id": "-u7ApIfyj6Vo",
        "outputId": "1182fd7e-9056-47d4-c310-64c56e0a94f5",
        "colab": {
          "base_uri": "https://localhost:8080/",
          "height": 336
        }
      },
      "source": [
        "ipl_df.info()"
      ],
      "execution_count": null,
      "outputs": [
        {
          "output_type": "stream",
          "text": [
            "<class 'pandas.core.frame.DataFrame'>\n",
            "Int64Index: 20668 entries, 6948 to 16287\n",
            "Data columns (total 12 columns):\n",
            " #   Column            Non-Null Count  Dtype \n",
            "---  ------            --------------  ----- \n",
            " 0   user_name         20668 non-null  object\n",
            " 1   user_location     20668 non-null  object\n",
            " 2   user_description  20668 non-null  object\n",
            " 3   user_followers    20668 non-null  int64 \n",
            " 4   user_friends      20668 non-null  int64 \n",
            " 5   user_favourites   20668 non-null  int64 \n",
            " 6   user_verified     20668 non-null  bool  \n",
            " 7   date              20668 non-null  object\n",
            " 8   text              20668 non-null  object\n",
            " 9   hashtags          20668 non-null  object\n",
            " 10  source            20668 non-null  object\n",
            " 11  is_retweet        20668 non-null  int64 \n",
            "dtypes: bool(1), int64(4), object(7)\n",
            "memory usage: 1.9+ MB\n"
          ],
          "name": "stdout"
        }
      ]
    },
    {
      "cell_type": "markdown",
      "metadata": {
        "id": "BD3pQ_Xzkn5z"
      },
      "source": [
        "describe method shows basic statistical characteristics of each numerical feature."
      ]
    },
    {
      "cell_type": "code",
      "metadata": {
        "id": "MGo2eX9Tkd7k",
        "outputId": "62842010-c1a0-4b33-b4e0-d9236788dbd6",
        "colab": {
          "base_uri": "https://localhost:8080/",
          "height": 284
        }
      },
      "source": [
        "ipl_df.describe()"
      ],
      "execution_count": null,
      "outputs": [
        {
          "output_type": "execute_result",
          "data": {
            "text/html": [
              "<div>\n",
              "<style scoped>\n",
              "    .dataframe tbody tr th:only-of-type {\n",
              "        vertical-align: middle;\n",
              "    }\n",
              "\n",
              "    .dataframe tbody tr th {\n",
              "        vertical-align: top;\n",
              "    }\n",
              "\n",
              "    .dataframe thead th {\n",
              "        text-align: right;\n",
              "    }\n",
              "</style>\n",
              "<table border=\"1\" class=\"dataframe\">\n",
              "  <thead>\n",
              "    <tr style=\"text-align: right;\">\n",
              "      <th></th>\n",
              "      <th>user_followers</th>\n",
              "      <th>user_friends</th>\n",
              "      <th>user_favourites</th>\n",
              "      <th>is_retweet</th>\n",
              "    </tr>\n",
              "  </thead>\n",
              "  <tbody>\n",
              "    <tr>\n",
              "      <th>count</th>\n",
              "      <td>2.066800e+04</td>\n",
              "      <td>20668.000000</td>\n",
              "      <td>2.066800e+04</td>\n",
              "      <td>20668.0</td>\n",
              "    </tr>\n",
              "    <tr>\n",
              "      <th>mean</th>\n",
              "      <td>2.195129e+05</td>\n",
              "      <td>682.362638</td>\n",
              "      <td>1.158414e+04</td>\n",
              "      <td>0.0</td>\n",
              "    </tr>\n",
              "    <tr>\n",
              "      <th>std</th>\n",
              "      <td>1.135649e+06</td>\n",
              "      <td>1894.920884</td>\n",
              "      <td>2.895132e+04</td>\n",
              "      <td>0.0</td>\n",
              "    </tr>\n",
              "    <tr>\n",
              "      <th>min</th>\n",
              "      <td>0.000000e+00</td>\n",
              "      <td>0.000000</td>\n",
              "      <td>0.000000e+00</td>\n",
              "      <td>0.0</td>\n",
              "    </tr>\n",
              "    <tr>\n",
              "      <th>25%</th>\n",
              "      <td>1.070000e+02</td>\n",
              "      <td>88.000000</td>\n",
              "      <td>2.050000e+02</td>\n",
              "      <td>0.0</td>\n",
              "    </tr>\n",
              "    <tr>\n",
              "      <th>50%</th>\n",
              "      <td>7.160000e+02</td>\n",
              "      <td>316.000000</td>\n",
              "      <td>1.637000e+03</td>\n",
              "      <td>0.0</td>\n",
              "    </tr>\n",
              "    <tr>\n",
              "      <th>75%</th>\n",
              "      <td>6.320000e+03</td>\n",
              "      <td>699.000000</td>\n",
              "      <td>8.533000e+03</td>\n",
              "      <td>0.0</td>\n",
              "    </tr>\n",
              "    <tr>\n",
              "      <th>max</th>\n",
              "      <td>1.365585e+07</td>\n",
              "      <td>106575.000000</td>\n",
              "      <td>1.006355e+06</td>\n",
              "      <td>0.0</td>\n",
              "    </tr>\n",
              "  </tbody>\n",
              "</table>\n",
              "</div>"
            ],
            "text/plain": [
              "       user_followers   user_friends  user_favourites  is_retweet\n",
              "count    2.066800e+04   20668.000000     2.066800e+04     20668.0\n",
              "mean     2.195129e+05     682.362638     1.158414e+04         0.0\n",
              "std      1.135649e+06    1894.920884     2.895132e+04         0.0\n",
              "min      0.000000e+00       0.000000     0.000000e+00         0.0\n",
              "25%      1.070000e+02      88.000000     2.050000e+02         0.0\n",
              "50%      7.160000e+02     316.000000     1.637000e+03         0.0\n",
              "75%      6.320000e+03     699.000000     8.533000e+03         0.0\n",
              "max      1.365585e+07  106575.000000     1.006355e+06         0.0"
            ]
          },
          "metadata": {
            "tags": []
          },
          "execution_count": 17
        }
      ]
    },
    {
      "cell_type": "code",
      "metadata": {
        "id": "NvwHfSuFRGSL"
      },
      "source": [
        "import jovian"
      ],
      "execution_count": null,
      "outputs": []
    },
    {
      "cell_type": "code",
      "metadata": {
        "id": "2RGGrQ9SRGSO",
        "outputId": "e3a1f224-47b2-434a-dc44-acef641ec1cd",
        "colab": {
          "base_uri": "https://localhost:8080/",
          "height": 86
        }
      },
      "source": [
        "jovian.commit(project=project_name)"
      ],
      "execution_count": null,
      "outputs": [
        {
          "output_type": "stream",
          "text": [
            "[jovian] Detected Colab notebook...\u001b[0m\n",
            "[jovian] Uploading colab notebook to Jovian...\u001b[0m\n",
            "[jovian] Committed successfully! https://jovian.ml/2017meb1219/zerotopandas-course-project-lohit\u001b[0m\n"
          ],
          "name": "stdout"
        },
        {
          "output_type": "execute_result",
          "data": {
            "application/vnd.google.colaboratory.intrinsic+json": {
              "type": "string"
            },
            "text/plain": [
              "'https://jovian.ml/2017meb1219/zerotopandas-course-project-lohit'"
            ]
          },
          "metadata": {
            "tags": []
          },
          "execution_count": 16
        }
      ]
    },
    {
      "cell_type": "markdown",
      "metadata": {
        "id": "ZGEAoBjvRGSQ"
      },
      "source": [
        "## Exploratory Analysis and Visualization\n",
        "\n",
        "TODO"
      ]
    },
    {
      "cell_type": "code",
      "metadata": {
        "id": "ZhdoB7jjRGSR"
      },
      "source": [
        "import matplotlib.pyplot as plt\n",
        "import seaborn as sns\n",
        "%matplotlib inline"
      ],
      "execution_count": null,
      "outputs": []
    },
    {
      "cell_type": "markdown",
      "metadata": {
        "id": "7xclh3UylFJl"
      },
      "source": [
        "Describing statistics for non-numerical features using include method."
      ]
    },
    {
      "cell_type": "code",
      "metadata": {
        "id": "V5Qi-MLUlB0u",
        "outputId": "43b3e223-4448-4b3c-eca1-948c5b94e07f",
        "colab": {
          "base_uri": "https://localhost:8080/",
          "height": 166
        }
      },
      "source": [
        "ipl_df.describe(include=['object', 'bool'])"
      ],
      "execution_count": null,
      "outputs": [
        {
          "output_type": "execute_result",
          "data": {
            "text/html": [
              "<div>\n",
              "<style scoped>\n",
              "    .dataframe tbody tr th:only-of-type {\n",
              "        vertical-align: middle;\n",
              "    }\n",
              "\n",
              "    .dataframe tbody tr th {\n",
              "        vertical-align: top;\n",
              "    }\n",
              "\n",
              "    .dataframe thead th {\n",
              "        text-align: right;\n",
              "    }\n",
              "</style>\n",
              "<table border=\"1\" class=\"dataframe\">\n",
              "  <thead>\n",
              "    <tr style=\"text-align: right;\">\n",
              "      <th></th>\n",
              "      <th>user_name</th>\n",
              "      <th>user_location</th>\n",
              "      <th>user_description</th>\n",
              "      <th>user_verified</th>\n",
              "      <th>date</th>\n",
              "      <th>text</th>\n",
              "      <th>hashtags</th>\n",
              "      <th>source</th>\n",
              "    </tr>\n",
              "  </thead>\n",
              "  <tbody>\n",
              "    <tr>\n",
              "      <th>count</th>\n",
              "      <td>20668</td>\n",
              "      <td>20668</td>\n",
              "      <td>20668</td>\n",
              "      <td>20668</td>\n",
              "      <td>20668</td>\n",
              "      <td>20668</td>\n",
              "      <td>20668</td>\n",
              "      <td>20668</td>\n",
              "    </tr>\n",
              "    <tr>\n",
              "      <th>unique</th>\n",
              "      <td>8167</td>\n",
              "      <td>3116</td>\n",
              "      <td>8382</td>\n",
              "      <td>2</td>\n",
              "      <td>18046</td>\n",
              "      <td>20414</td>\n",
              "      <td>8417</td>\n",
              "      <td>58</td>\n",
              "    </tr>\n",
              "    <tr>\n",
              "      <th>top</th>\n",
              "      <td>Republic</td>\n",
              "      <td>India</td>\n",
              "      <td>Official handle of the Republic Media Network....</td>\n",
              "      <td>False</td>\n",
              "      <td>18-08-2020 09:20</td>\n",
              "      <td>BREAKING NEWS: DREAM XI will be the Title spon...</td>\n",
              "      <td>['IPL2020']</td>\n",
              "      <td>Twitter for Android</td>\n",
              "    </tr>\n",
              "    <tr>\n",
              "      <th>freq</th>\n",
              "      <td>281</td>\n",
              "      <td>3407</td>\n",
              "      <td>281</td>\n",
              "      <td>17246</td>\n",
              "      <td>23</td>\n",
              "      <td>23</td>\n",
              "      <td>4403</td>\n",
              "      <td>11424</td>\n",
              "    </tr>\n",
              "  </tbody>\n",
              "</table>\n",
              "</div>"
            ],
            "text/plain": [
              "       user_name user_location  ...     hashtags               source\n",
              "count      20668         20668  ...        20668                20668\n",
              "unique      8167          3116  ...         8417                   58\n",
              "top     Republic         India  ...  ['IPL2020']  Twitter for Android\n",
              "freq         281          3407  ...         4403                11424\n",
              "\n",
              "[4 rows x 8 columns]"
            ]
          },
          "metadata": {
            "tags": []
          },
          "execution_count": 20
        }
      ]
    },
    {
      "cell_type": "code",
      "metadata": {
        "id": "GGzrWsGORGST",
        "outputId": "bb06b0c8-3ce2-4038-81ed-aab9c3137ab4",
        "colab": {
          "base_uri": "https://localhost:8080/",
          "height": 168
        }
      },
      "source": [
        "ipl_df['user_followers'].describe()"
      ],
      "execution_count": null,
      "outputs": [
        {
          "output_type": "execute_result",
          "data": {
            "text/plain": [
              "count    2.066800e+04\n",
              "mean     2.195129e+05\n",
              "std      1.135649e+06\n",
              "min      0.000000e+00\n",
              "25%      1.070000e+02\n",
              "50%      7.160000e+02\n",
              "75%      6.320000e+03\n",
              "max      1.365585e+07\n",
              "Name: user_followers, dtype: float64"
            ]
          },
          "metadata": {
            "tags": []
          },
          "execution_count": 19
        }
      ]
    },
    {
      "cell_type": "code",
      "metadata": {
        "id": "zf-LiB5Voh8S",
        "outputId": "0527c220-443d-4b70-ca33-6b53e0f4e569",
        "colab": {
          "base_uri": "https://localhost:8080/",
          "height": 168
        }
      },
      "source": [
        "ipl_df['user_favourites'].describe()"
      ],
      "execution_count": null,
      "outputs": [
        {
          "output_type": "execute_result",
          "data": {
            "text/plain": [
              "count    2.066800e+04\n",
              "mean     1.158414e+04\n",
              "std      2.895132e+04\n",
              "min      0.000000e+00\n",
              "25%      2.050000e+02\n",
              "50%      1.637000e+03\n",
              "75%      8.533000e+03\n",
              "max      1.006355e+06\n",
              "Name: user_favourites, dtype: float64"
            ]
          },
          "metadata": {
            "tags": []
          },
          "execution_count": 85
        }
      ]
    },
    {
      "cell_type": "code",
      "metadata": {
        "id": "ASS3l1ToppUo",
        "outputId": "0f78402b-c294-4fae-fafc-ef08fa62528d",
        "colab": {
          "base_uri": "https://localhost:8080/",
          "height": 308
        }
      },
      "source": [
        "sns.distplot(ipl_df['user_favourites'])"
      ],
      "execution_count": null,
      "outputs": [
        {
          "output_type": "execute_result",
          "data": {
            "text/plain": [
              "<matplotlib.axes._subplots.AxesSubplot at 0x7f2c2a8a9f98>"
            ]
          },
          "metadata": {
            "tags": []
          },
          "execution_count": 89
        },
        {
          "output_type": "display_data",
          "data": {
            "image/png": "[encoded data removed]",
            "text/plain": [
              "<Figure size 432x288 with 1 Axes>"
            ]
          },
          "metadata": {
            "tags": [],
            "needs_background": "light"
          }
        }
      ]
    },
    {
      "cell_type": "code",
      "metadata": {
        "id": "LbJboqnDRGSV",
        "outputId": "c985e78c-d5a9-4e06-cc7f-553b70722fad",
        "colab": {
          "base_uri": "https://localhost:8080/",
          "height": 308
        }
      },
      "source": [
        "sns.distplot(ipl_df['user_followers'])"
      ],
      "execution_count": null,
      "outputs": [
        {
          "output_type": "execute_result",
          "data": {
            "text/plain": [
              "<matplotlib.axes._subplots.AxesSubplot at 0x7f2c37c363c8>"
            ]
          },
          "metadata": {
            "tags": []
          },
          "execution_count": 79
        },
        {
          "output_type": "display_data",
          "data": {
            "image/png": "[encoded data removed]",
            "text/plain": [
              "<Figure size 432x288 with 1 Axes>"
            ]
          },
          "metadata": {
            "tags": [],
            "needs_background": "light"
          }
        }
      ]
    },
    {
      "cell_type": "code",
      "metadata": {
        "id": "SLoPRtKcp0k1",
        "outputId": "60b955e4-18f5-41e2-b5fa-32444ec84658",
        "colab": {
          "base_uri": "https://localhost:8080/",
          "height": 50
        }
      },
      "source": [
        "print(\"Skewness: %f\" % ipl_df['user_followers'].skew())\n",
        "print(\"Kurtosis: %f\" % ipl_df['user_followers'].kurt())"
      ],
      "execution_count": null,
      "outputs": [
        {
          "output_type": "stream",
          "text": [
            "Skewness: 8.769921\n",
            "Kurtosis: 88.036458\n"
          ],
          "name": "stdout"
        }
      ]
    },
    {
      "cell_type": "code",
      "metadata": {
        "id": "JqlxHeHZp_A2",
        "outputId": "6ee2a7d2-1bee-4f0d-e149-722e2975205d",
        "colab": {
          "base_uri": "https://localhost:8080/",
          "height": 50
        }
      },
      "source": [
        "print(\"Skewness: %f\" % ipl_df['user_favourites'].skew())\n",
        "print(\"Kurtosis: %f\" % ipl_df['user_favourites'].kurt())"
      ],
      "execution_count": null,
      "outputs": [
        {
          "output_type": "stream",
          "text": [
            "Skewness: 7.247254\n",
            "Kurtosis: 114.704754\n"
          ],
          "name": "stdout"
        }
      ]
    },
    {
      "cell_type": "markdown",
      "metadata": {
        "id": "X9sgzBBIx4ja"
      },
      "source": [
        "Plot depicting relation between retweets and verified user."
      ]
    },
    {
      "cell_type": "code",
      "metadata": {
        "id": "JrZ9bvfKxVy9",
        "outputId": "b38ab6bc-4117-441c-bff0-aaa6783cde2f",
        "colab": {
          "base_uri": "https://localhost:8080/",
          "height": 280
        }
      },
      "source": [
        "sns.countplot(x='user_verified', hue='is_retweet', data=ipl_df);"
      ],
      "execution_count": null,
      "outputs": [
        {
          "output_type": "display_data",
          "data": {
            "image/png": "[encoded data removed]",
            "text/plain": [
              "<Figure size 432x288 with 1 Axes>"
            ]
          },
          "metadata": {
            "tags": [],
            "needs_background": "light"
          }
        }
      ]
    },
    {
      "cell_type": "code",
      "metadata": {
        "id": "JLQGMS2zRGSX",
        "outputId": "04badc44-43de-405b-9644-0df50fbc9ee7",
        "colab": {
          "base_uri": "https://localhost:8080/",
          "height": 291
        }
      },
      "source": [
        "var='user_friends'\n",
        "data = pd.concat([ipl_df['user_followers'], ipl_df[var]], axis=1)\n",
        "data.plot.scatter(x=var, y='user_followers');"
      ],
      "execution_count": null,
      "outputs": [
        {
          "output_type": "display_data",
          "data": {
            "image/png": "[encoded data removed]",
            "text/plain": [
              "<Figure size 432x288 with 1 Axes>"
            ]
          },
          "metadata": {
            "tags": [],
            "needs_background": "light"
          }
        }
      ]
    },
    {
      "cell_type": "code",
      "metadata": {
        "id": "k1DStZtlRGSZ",
        "outputId": "f762031e-1f9e-4fd0-ad80-ec8f0921c4e1",
        "colab": {
          "base_uri": "https://localhost:8080/",
          "height": 291
        }
      },
      "source": [
        "var='user_favourites'\n",
        "data = pd.concat([ipl_df['user_followers'], ipl_df[var]], axis=1)\n",
        "data.plot.scatter(x=var, y='user_followers');"
      ],
      "execution_count": null,
      "outputs": [
        {
          "output_type": "display_data",
          "data": {
            "image/png": "[encoded data removed]",
            "text/plain": [
              "<Figure size 432x288 with 1 Axes>"
            ]
          },
          "metadata": {
            "tags": [],
            "needs_background": "light"
          }
        }
      ]
    },
    {
      "cell_type": "code",
      "metadata": {
        "id": "6PIijPjwqPGD",
        "outputId": "89480dea-6f2c-402b-8c52-c8c50d6744d4",
        "colab": {
          "base_uri": "https://localhost:8080/",
          "height": 400
        }
      },
      "source": [
        "var = 'user_verified'\n",
        "data = pd.concat([ipl_df['user_followers'], ipl_df[var]], axis=1)\n",
        "f, ax = plt.subplots(figsize=(8, 6))\n",
        "fig = sns.boxplot(x=var, y=\"user_followers\", data=data)\n"
      ],
      "execution_count": null,
      "outputs": [
        {
          "output_type": "display_data",
          "data": {
            "image/png": "[encoded data removed]",
            "text/plain": [
              "<Figure size 576x432 with 1 Axes>"
            ]
          },
          "metadata": {
            "tags": [],
            "needs_background": "light"
          }
        }
      ]
    },
    {
      "cell_type": "code",
      "metadata": {
        "id": "nsbsEcYMqn2O",
        "outputId": "51bfb3ab-8f4f-4f09-faeb-0b72766f28f6",
        "colab": {
          "base_uri": "https://localhost:8080/",
          "height": 400
        }
      },
      "source": [
        "var = 'is_retweet'\n",
        "data = pd.concat([ipl_df['user_followers'], ipl_df[var]], axis=1)\n",
        "f, ax = plt.subplots(figsize=(8, 6))\n",
        "fig = sns.boxplot(x=var, y=\"user_followers\", data=data)"
      ],
      "execution_count": null,
      "outputs": [
        {
          "output_type": "display_data",
          "data": {
            "image/png": "[encoded data removed]",
            "text/plain": [
              "<Figure size 576x432 with 1 Axes>"
            ]
          },
          "metadata": {
            "tags": [],
            "needs_background": "light"
          }
        }
      ]
    },
    {
      "cell_type": "code",
      "metadata": {
        "id": "1Ut0QRYdoGZZ",
        "outputId": "d3c08e73-2bba-4134-c40b-11e1f31c8c8f",
        "colab": {
          "base_uri": "https://localhost:8080/",
          "height": 488
        }
      },
      "source": [
        "#correlation matrix\n",
        "corrmat = ipl_df.corr()\n",
        "f, ax = plt.subplots(figsize=(10, 8))\n",
        "sns.heatmap(corrmat, vmax=.8, square=True);"
      ],
      "execution_count": null,
      "outputs": [
        {
          "output_type": "display_data",
          "data": {
            "image/png": "[encoded data removed]",
            "text/plain": [
              "<Figure size 720x576 with 2 Axes>"
            ]
          },
          "metadata": {
            "tags": [],
            "needs_background": "light"
          }
        }
      ]
    },
    {
      "cell_type": "code",
      "metadata": {
        "id": "DretgffbRGSb"
      },
      "source": [
        "import jovian"
      ],
      "execution_count": null,
      "outputs": []
    },
    {
      "cell_type": "code",
      "metadata": {
        "id": "lVJu4nGSRGSd",
        "outputId": "4028e061-5c2c-4176-dce2-9fa4a1e5eaf1",
        "colab": {
          "base_uri": "https://localhost:8080/",
          "height": 86
        }
      },
      "source": [
        "jovian.commit(project=project_name)"
      ],
      "execution_count": null,
      "outputs": [
        {
          "output_type": "stream",
          "text": [
            "[jovian] Detected Colab notebook...\u001b[0m\n",
            "[jovian] Uploading colab notebook to Jovian...\u001b[0m\n",
            "[jovian] Committed successfully! https://jovian.ml/2017meb1219/zerotopandas-course-project-lohit\u001b[0m\n"
          ],
          "name": "stdout"
        },
        {
          "output_type": "execute_result",
          "data": {
            "application/vnd.google.colaboratory.intrinsic+json": {
              "type": "string"
            },
            "text/plain": [
              "'https://jovian.ml/2017meb1219/zerotopandas-course-project-lohit'"
            ]
          },
          "metadata": {
            "tags": []
          },
          "execution_count": 88
        }
      ]
    },
    {
      "cell_type": "markdown",
      "metadata": {
        "id": "qZ_7uBaBRGSf"
      },
      "source": [
        "## Asking and Answering Questions\n",
        "\n",
        "TODO"
      ]
    },
    {
      "cell_type": "markdown",
      "metadata": {
        "id": "V1fVoZk7lje0"
      },
      "source": [
        "Count how many users are verified or not"
      ]
    },
    {
      "cell_type": "code",
      "metadata": {
        "id": "vH2Z7hCIRGSg",
        "outputId": "9825bad5-bf25-4999-99b1-d7725a33e12d",
        "colab": {
          "base_uri": "https://localhost:8080/",
          "height": 67
        }
      },
      "source": [
        "ipl_df['user_verified'].value_counts()"
      ],
      "execution_count": null,
      "outputs": [
        {
          "output_type": "execute_result",
          "data": {
            "text/plain": [
              "False    17246\n",
              "True      3422\n",
              "Name: user_verified, dtype: int64"
            ]
          },
          "metadata": {
            "tags": []
          },
          "execution_count": 21
        }
      ]
    },
    {
      "cell_type": "markdown",
      "metadata": {
        "id": "0gx8i83smwjC"
      },
      "source": [
        "What is the average values of numerical features for verified users?"
      ]
    },
    {
      "cell_type": "code",
      "metadata": {
        "id": "X6ZhJWiqRGSh",
        "outputId": "776f4b98-7503-4e52-a1d3-433a0da2b961",
        "colab": {
          "base_uri": "https://localhost:8080/",
          "height": 118
        }
      },
      "source": [
        "ipl_df[ipl_df['user_verified'] == 1].mean()"
      ],
      "execution_count": null,
      "outputs": [
        {
          "output_type": "execute_result",
          "data": {
            "text/plain": [
              "user_followers     1.289021e+06\n",
              "user_friends       7.814898e+02\n",
              "user_favourites    2.328647e+03\n",
              "user_verified      1.000000e+00\n",
              "is_retweet         0.000000e+00\n",
              "dtype: float64"
            ]
          },
          "metadata": {
            "tags": []
          },
          "execution_count": 22
        }
      ]
    },
    {
      "cell_type": "markdown",
      "metadata": {
        "id": "jQ5aZApKoWLR"
      },
      "source": [
        "What is the maximum number of user_followers among verified users  who doesnt have retweet ?"
      ]
    },
    {
      "cell_type": "code",
      "metadata": {
        "id": "9jWPjJ_ORGSj",
        "outputId": "61a5e797-d59d-4ab7-d53f-1a4554c3be0e",
        "colab": {
          "base_uri": "https://localhost:8080/",
          "height": 34
        }
      },
      "source": [
        "ipl_df[(ipl_df['user_verified'] == 1) & (ipl_df['is_retweet'] == 0)]['user_followers'].max()"
      ],
      "execution_count": null,
      "outputs": [
        {
          "output_type": "execute_result",
          "data": {
            "text/plain": [
              "13655846"
            ]
          },
          "metadata": {
            "tags": []
          },
          "execution_count": 23
        }
      ]
    },
    {
      "cell_type": "markdown",
      "metadata": {
        "id": "oB1KGZ7Nq9ka"
      },
      "source": [
        "select all tweets having user location starting with 'B'"
      ]
    },
    {
      "cell_type": "code",
      "metadata": {
        "id": "o_Wui9qVRGSl",
        "outputId": "d10878d6-492c-49e1-e300-adbe47b58c8a",
        "colab": {
          "base_uri": "https://localhost:8080/",
          "height": 363
        }
      },
      "source": [
        "ipl_df[ipl_df['user_location'].apply(lambda state: state[0] == 'B')].head()"
      ],
      "execution_count": null,
      "outputs": [
        {
          "output_type": "execute_result",
          "data": {
            "text/html": [
              "<div>\n",
              "<style scoped>\n",
              "    .dataframe tbody tr th:only-of-type {\n",
              "        vertical-align: middle;\n",
              "    }\n",
              "\n",
              "    .dataframe tbody tr th {\n",
              "        vertical-align: top;\n",
              "    }\n",
              "\n",
              "    .dataframe thead th {\n",
              "        text-align: right;\n",
              "    }\n",
              "</style>\n",
              "<table border=\"1\" class=\"dataframe\">\n",
              "  <thead>\n",
              "    <tr style=\"text-align: right;\">\n",
              "      <th></th>\n",
              "      <th>user_name</th>\n",
              "      <th>user_location</th>\n",
              "      <th>user_description</th>\n",
              "      <th>user_followers</th>\n",
              "      <th>user_friends</th>\n",
              "      <th>user_favourites</th>\n",
              "      <th>user_verified</th>\n",
              "      <th>date</th>\n",
              "      <th>text</th>\n",
              "      <th>hashtags</th>\n",
              "      <th>source</th>\n",
              "      <th>is_retweet</th>\n",
              "    </tr>\n",
              "  </thead>\n",
              "  <tbody>\n",
              "    <tr>\n",
              "      <th>6905</th>\n",
              "      <td>OTV</td>\n",
              "      <td>Bhubaneshwar, India</td>\n",
              "      <td>If something on Odisha is not on https://t.co/...</td>\n",
              "      <td>565722</td>\n",
              "      <td>282</td>\n",
              "      <td>415</td>\n",
              "      <td>True</td>\n",
              "      <td>2020-09-04 08:31:25</td>\n",
              "      <td>Another Blow For Chennai Super Kings, Harbhaja...</td>\n",
              "      <td>['HarbhajanSingh', 'IPL2020', 'CSK']</td>\n",
              "      <td>Twitter Web App</td>\n",
              "      <td>0</td>\n",
              "    </tr>\n",
              "    <tr>\n",
              "      <th>3707</th>\n",
              "      <td>OTV</td>\n",
              "      <td>Bhubaneshwar, India</td>\n",
              "      <td>If something on Odisha is not on https://t.co/...</td>\n",
              "      <td>565707</td>\n",
              "      <td>282</td>\n",
              "      <td>415</td>\n",
              "      <td>True</td>\n",
              "      <td>2020-09-06 12:35:00</td>\n",
              "      <td>#IPL2020 Schedule Announced, Check Details Her...</td>\n",
              "      <td>['IPL2020']</td>\n",
              "      <td>Twitter Web App</td>\n",
              "      <td>0</td>\n",
              "    </tr>\n",
              "    <tr>\n",
              "      <th>12723</th>\n",
              "      <td>OTV</td>\n",
              "      <td>Bhubaneshwar, India</td>\n",
              "      <td>If something on Odisha is not on https://t.co/...</td>\n",
              "      <td>560296</td>\n",
              "      <td>282</td>\n",
              "      <td>414</td>\n",
              "      <td>True</td>\n",
              "      <td>2020-08-28 12:30:05</td>\n",
              "      <td>#IPL2020 \\n\\n12 CSK Members Test COVID-19 Posi...</td>\n",
              "      <td>['IPL2020']</td>\n",
              "      <td>Twitter Web App</td>\n",
              "      <td>0</td>\n",
              "    </tr>\n",
              "    <tr>\n",
              "      <th>11827</th>\n",
              "      <td>OTV</td>\n",
              "      <td>Bhubaneshwar, India</td>\n",
              "      <td>If something on Odisha is not on https://t.co/...</td>\n",
              "      <td>560296</td>\n",
              "      <td>282</td>\n",
              "      <td>414</td>\n",
              "      <td>True</td>\n",
              "      <td>2020-08-29 06:43:10</td>\n",
              "      <td>Jolt To CSK! Suresh Raina Out Of IPL 2020 \\n\\n...</td>\n",
              "      <td>['IPL2020Updates', 'IPL2020']</td>\n",
              "      <td>Twitter Web App</td>\n",
              "      <td>0</td>\n",
              "    </tr>\n",
              "    <tr>\n",
              "      <th>11985</th>\n",
              "      <td>OTV</td>\n",
              "      <td>Bhubaneshwar, India</td>\n",
              "      <td>If something on Odisha is not on https://t.co/...</td>\n",
              "      <td>560296</td>\n",
              "      <td>282</td>\n",
              "      <td>414</td>\n",
              "      <td>True</td>\n",
              "      <td>2020-08-29 06:12:21</td>\n",
              "      <td>Suresh Raina returns to India for personal rea...</td>\n",
              "      <td>['IPL2020']</td>\n",
              "      <td>Twitter Web App</td>\n",
              "      <td>0</td>\n",
              "    </tr>\n",
              "  </tbody>\n",
              "</table>\n",
              "</div>"
            ],
            "text/plain": [
              "      user_name        user_location  ...           source  is_retweet\n",
              "6905        OTV  Bhubaneshwar, India  ...  Twitter Web App           0\n",
              "3707        OTV  Bhubaneshwar, India  ...  Twitter Web App           0\n",
              "12723       OTV  Bhubaneshwar, India  ...  Twitter Web App           0\n",
              "11827       OTV  Bhubaneshwar, India  ...  Twitter Web App           0\n",
              "11985       OTV  Bhubaneshwar, India  ...  Twitter Web App           0\n",
              "\n",
              "[5 rows x 12 columns]"
            ]
          },
          "metadata": {
            "tags": []
          },
          "execution_count": 25
        }
      ]
    },
    {
      "cell_type": "markdown",
      "metadata": {
        "id": "X2AkmssWsIu4"
      },
      "source": [
        "How many tweets are from each differnt locations?"
      ]
    },
    {
      "cell_type": "code",
      "metadata": {
        "id": "LfXEUUNHRGSo",
        "outputId": "f4332af1-8fdb-4c4a-e103-c70cdb68fe7f",
        "colab": {
          "base_uri": "https://localhost:8080/",
          "height": 431
        }
      },
      "source": [
        "ipl_df.groupby(['user_location'])['user_followers'].describe(percentiles=[])"
      ],
      "execution_count": null,
      "outputs": [
        {
          "output_type": "execute_result",
          "data": {
            "text/html": [
              "<div>\n",
              "<style scoped>\n",
              "    .dataframe tbody tr th:only-of-type {\n",
              "        vertical-align: middle;\n",
              "    }\n",
              "\n",
              "    .dataframe tbody tr th {\n",
              "        vertical-align: top;\n",
              "    }\n",
              "\n",
              "    .dataframe thead th {\n",
              "        text-align: right;\n",
              "    }\n",
              "</style>\n",
              "<table border=\"1\" class=\"dataframe\">\n",
              "  <thead>\n",
              "    <tr style=\"text-align: right;\">\n",
              "      <th></th>\n",
              "      <th>count</th>\n",
              "      <th>mean</th>\n",
              "      <th>std</th>\n",
              "      <th>min</th>\n",
              "      <th>50%</th>\n",
              "      <th>max</th>\n",
              "    </tr>\n",
              "    <tr>\n",
              "      <th>user_location</th>\n",
              "      <th></th>\n",
              "      <th></th>\n",
              "      <th></th>\n",
              "      <th></th>\n",
              "      <th></th>\n",
              "      <th></th>\n",
              "    </tr>\n",
              "  </thead>\n",
              "  <tbody>\n",
              "    <tr>\n",
              "      <th>\\n𝓐𝓹𝓴𝓮 𝓓𝓲𝓵 𝓜𝓮𝓲 ...♥︎</th>\n",
              "      <td>1.0</td>\n",
              "      <td>750.000000</td>\n",
              "      <td>NaN</td>\n",
              "      <td>750.0</td>\n",
              "      <td>750.0</td>\n",
              "      <td>750.0</td>\n",
              "    </tr>\n",
              "    <tr>\n",
              "      <th></th>\n",
              "      <td>1.0</td>\n",
              "      <td>1055.000000</td>\n",
              "      <td>NaN</td>\n",
              "      <td>1055.0</td>\n",
              "      <td>1055.0</td>\n",
              "      <td>1055.0</td>\n",
              "    </tr>\n",
              "    <tr>\n",
              "      <th></th>\n",
              "      <td>1.0</td>\n",
              "      <td>1549.000000</td>\n",
              "      <td>NaN</td>\n",
              "      <td>1549.0</td>\n",
              "      <td>1549.0</td>\n",
              "      <td>1549.0</td>\n",
              "    </tr>\n",
              "    <tr>\n",
              "      <th>Kailasa</th>\n",
              "      <td>1.0</td>\n",
              "      <td>251.000000</td>\n",
              "      <td>NaN</td>\n",
              "      <td>251.0</td>\n",
              "      <td>251.0</td>\n",
              "      <td>251.0</td>\n",
              "    </tr>\n",
              "    <tr>\n",
              "      <th>chennai</th>\n",
              "      <td>1.0</td>\n",
              "      <td>2091.000000</td>\n",
              "      <td>NaN</td>\n",
              "      <td>2091.0</td>\n",
              "      <td>2091.0</td>\n",
              "      <td>2091.0</td>\n",
              "    </tr>\n",
              "    <tr>\n",
              "      <th>...</th>\n",
              "      <td>...</td>\n",
              "      <td>...</td>\n",
              "      <td>...</td>\n",
              "      <td>...</td>\n",
              "      <td>...</td>\n",
              "      <td>...</td>\n",
              "    </tr>\n",
              "    <tr>\n",
              "      <th>😊</th>\n",
              "      <td>11.0</td>\n",
              "      <td>1014.090909</td>\n",
              "      <td>22.088253</td>\n",
              "      <td>982.0</td>\n",
              "      <td>1021.0</td>\n",
              "      <td>1042.0</td>\n",
              "    </tr>\n",
              "    <tr>\n",
              "      <th>😍 Rahulians Squad 😍</th>\n",
              "      <td>2.0</td>\n",
              "      <td>4152.000000</td>\n",
              "      <td>0.000000</td>\n",
              "      <td>4152.0</td>\n",
              "      <td>4152.0</td>\n",
              "      <td>4152.0</td>\n",
              "    </tr>\n",
              "    <tr>\n",
              "      <th>🚶</th>\n",
              "      <td>1.0</td>\n",
              "      <td>2460.000000</td>\n",
              "      <td>NaN</td>\n",
              "      <td>2460.0</td>\n",
              "      <td>2460.0</td>\n",
              "      <td>2460.0</td>\n",
              "    </tr>\n",
              "    <tr>\n",
              "      <th>🛫Kolkata🛬Bangalore, India</th>\n",
              "      <td>1.0</td>\n",
              "      <td>1854.000000</td>\n",
              "      <td>NaN</td>\n",
              "      <td>1854.0</td>\n",
              "      <td>1854.0</td>\n",
              "      <td>1854.0</td>\n",
              "    </tr>\n",
              "    <tr>\n",
              "      <th>🧘🏻‍♂️</th>\n",
              "      <td>3.0</td>\n",
              "      <td>1537.000000</td>\n",
              "      <td>0.000000</td>\n",
              "      <td>1537.0</td>\n",
              "      <td>1537.0</td>\n",
              "      <td>1537.0</td>\n",
              "    </tr>\n",
              "  </tbody>\n",
              "</table>\n",
              "<p>3116 rows × 6 columns</p>\n",
              "</div>"
            ],
            "text/plain": [
              "                            count         mean  ...     50%     max\n",
              "user_location                                   ...                \n",
              "\\n𝓐𝓹𝓴𝓮 𝓓𝓲𝓵 𝓜𝓮𝓲 ...♥︎          1.0   750.000000  ...   750.0   750.0\n",
              "                              1.0  1055.000000  ...  1055.0  1055.0\n",
              "                              1.0  1549.000000  ...  1549.0  1549.0\n",
              "  Kailasa                     1.0   251.000000  ...   251.0   251.0\n",
              "  chennai                     1.0  2091.000000  ...  2091.0  2091.0\n",
              "...                           ...          ...  ...     ...     ...\n",
              "😊                            11.0  1014.090909  ...  1021.0  1042.0\n",
              "😍 Rahulians Squad 😍           2.0  4152.000000  ...  4152.0  4152.0\n",
              "🚶                             1.0  2460.000000  ...  2460.0  2460.0\n",
              "🛫Kolkata🛬Bangalore, India     1.0  1854.000000  ...  1854.0  1854.0\n",
              "🧘🏻‍♂️                         3.0  1537.000000  ...  1537.0  1537.0\n",
              "\n",
              "[3116 rows x 6 columns]"
            ]
          },
          "metadata": {
            "tags": []
          },
          "execution_count": 34
        }
      ]
    },
    {
      "cell_type": "markdown",
      "metadata": {
        "id": "S3UUWtcXu9SQ"
      },
      "source": [
        "How the isretweet and user verified are related?"
      ]
    },
    {
      "cell_type": "code",
      "metadata": {
        "id": "VWaUOeixRGSq",
        "outputId": "91ec407e-7099-4029-a8fb-80fc8898c811",
        "colab": {
          "base_uri": "https://localhost:8080/",
          "height": 136
        }
      },
      "source": [
        "pd.crosstab(ipl_df['user_verified'], ipl_df['is_retweet'])"
      ],
      "execution_count": null,
      "outputs": [
        {
          "output_type": "execute_result",
          "data": {
            "text/html": [
              "<div>\n",
              "<style scoped>\n",
              "    .dataframe tbody tr th:only-of-type {\n",
              "        vertical-align: middle;\n",
              "    }\n",
              "\n",
              "    .dataframe tbody tr th {\n",
              "        vertical-align: top;\n",
              "    }\n",
              "\n",
              "    .dataframe thead th {\n",
              "        text-align: right;\n",
              "    }\n",
              "</style>\n",
              "<table border=\"1\" class=\"dataframe\">\n",
              "  <thead>\n",
              "    <tr style=\"text-align: right;\">\n",
              "      <th>is_retweet</th>\n",
              "      <th>0</th>\n",
              "    </tr>\n",
              "    <tr>\n",
              "      <th>user_verified</th>\n",
              "      <th></th>\n",
              "    </tr>\n",
              "  </thead>\n",
              "  <tbody>\n",
              "    <tr>\n",
              "      <th>False</th>\n",
              "      <td>17246</td>\n",
              "    </tr>\n",
              "    <tr>\n",
              "      <th>True</th>\n",
              "      <td>3422</td>\n",
              "    </tr>\n",
              "  </tbody>\n",
              "</table>\n",
              "</div>"
            ],
            "text/plain": [
              "is_retweet         0\n",
              "user_verified       \n",
              "False          17246\n",
              "True            3422"
            ]
          },
          "metadata": {
            "tags": []
          },
          "execution_count": 36
        }
      ]
    },
    {
      "cell_type": "code",
      "metadata": {
        "id": "wkxOuIFlRGSs"
      },
      "source": [
        ""
      ],
      "execution_count": null,
      "outputs": []
    },
    {
      "cell_type": "code",
      "metadata": {
        "id": "1-1POlgARGSu"
      },
      "source": [
        "import jovian"
      ],
      "execution_count": null,
      "outputs": []
    },
    {
      "cell_type": "code",
      "metadata": {
        "id": "fdbkPeACRGSw",
        "outputId": "732ee585-601b-4c18-f5e9-f4a99f47224c",
        "colab": {
          "base_uri": "https://localhost:8080/",
          "height": 86
        }
      },
      "source": [
        "jovian.commit(project=project_name)"
      ],
      "execution_count": null,
      "outputs": [
        {
          "output_type": "stream",
          "text": [
            "[jovian] Detected Colab notebook...\u001b[0m\n",
            "[jovian] Uploading colab notebook to Jovian...\u001b[0m\n",
            "[jovian] Committed successfully! https://jovian.ml/2017meb1219/zerotopandas-course-project-lohit\u001b[0m\n"
          ],
          "name": "stdout"
        },
        {
          "output_type": "execute_result",
          "data": {
            "application/vnd.google.colaboratory.intrinsic+json": {
              "type": "string"
            },
            "text/plain": [
              "'https://jovian.ml/2017meb1219/zerotopandas-course-project-lohit'"
            ]
          },
          "metadata": {
            "tags": []
          },
          "execution_count": 43
        }
      ]
    },
    {
      "cell_type": "markdown",
      "metadata": {
        "id": "fr68_iQaRGSz"
      },
      "source": [
        "## Inferences and Conclusion\n",
        "\n",
        "TODO"
      ]
    },
    {
      "cell_type": "markdown",
      "metadata": {
        "id": "jD-Ovt3d15Ph"
      },
      "source": [
        "We have succesfully analysed the ipl tweets dataset. We have also plotted various graphs such as scatter,bar graphs to visualize the relation between the features.We plotted correlation matrix for the datset. "
      ]
    },
    {
      "cell_type": "markdown",
      "metadata": {
        "id": "XoHwU3S72lm6"
      },
      "source": [
        "We can stil improve or clean the dataset by removing rows which have non aplhanumeric values such as emojies etc."
      ]
    },
    {
      "cell_type": "code",
      "metadata": {
        "id": "SkXJ8mEgRGS0"
      },
      "source": [
        ""
      ],
      "execution_count": null,
      "outputs": []
    },
    {
      "cell_type": "code",
      "metadata": {
        "id": "lsfhYygfRGS2"
      },
      "source": [
        ""
      ],
      "execution_count": null,
      "outputs": []
    },
    {
      "cell_type": "code",
      "metadata": {
        "id": "pThOYtcbRGS4"
      },
      "source": [
        ""
      ],
      "execution_count": null,
      "outputs": []
    },
    {
      "cell_type": "code",
      "metadata": {
        "id": "_T315fBlRGS6"
      },
      "source": [
        "import jovian"
      ],
      "execution_count": null,
      "outputs": []
    },
    {
      "cell_type": "code",
      "metadata": {
        "id": "mH5LRp1XRGS8",
        "outputId": "517e92aa-436d-4f30-9a1a-b97659fc730a"
      },
      "source": [
        "jovian.commit()"
      ],
      "execution_count": null,
      "outputs": [
        {
          "output_type": "display_data",
          "data": {
            "application/javascript": [
              "window.require && require([\"base/js/namespace\"],function(Jupyter){Jupyter.notebook.save_checkpoint()})"
            ],
            "text/plain": [
              "<IPython.core.display.Javascript object>"
            ]
          },
          "metadata": {
            "tags": []
          }
        },
        {
          "output_type": "stream",
          "text": [
            "[jovian] Attempting to save notebook..\u001b[0m\n",
            "[jovian] Updating notebook \"aakashns/zerotopandas-course-project-starter\" on https://jovian.ml/\u001b[0m\n",
            "[jovian] Uploading notebook..\u001b[0m\n",
            "[jovian] Capturing environment..\u001b[0m\n",
            "[jovian] Committed successfully! https://jovian.ml/aakashns/zerotopandas-course-project-starter\u001b[0m\n"
          ],
          "name": "stdout"
        },
        {
          "output_type": "execute_result",
          "data": {
            "text/plain": [
              "'https://jovian.ml/aakashns/zerotopandas-course-project-starter'"
            ]
          },
          "metadata": {
            "tags": []
          },
          "execution_count": 12
        }
      ]
    },
    {
      "cell_type": "markdown",
      "metadata": {
        "id": "Z_WX2Km7RGS_"
      },
      "source": [
        "## References and Future Work\n",
        "\n",
        "TODO"
      ]
    },
    {
      "cell_type": "code",
      "metadata": {
        "id": "OcpBM3GPRGS_"
      },
      "source": [
        "import jovian"
      ],
      "execution_count": null,
      "outputs": []
    },
    {
      "cell_type": "code",
      "metadata": {
        "id": "-re51v1GRGTB",
        "outputId": "c7643c01-7cf8-43af-d28c-f805bd99fcf2",
        "colab": {
          "base_uri": "https://localhost:8080/",
          "height": 86
        }
      },
      "source": [
        "jovian.commit(project=project_name)"
      ],
      "execution_count": null,
      "outputs": [
        {
          "output_type": "stream",
          "text": [
            "[jovian] Detected Colab notebook...\u001b[0m\n",
            "[jovian] Uploading colab notebook to Jovian...\u001b[0m\n",
            "[jovian] Committed successfully! https://jovian.ml/2017meb1219/zerotopandas-course-project-lohit\u001b[0m\n"
          ],
          "name": "stdout"
        },
        {
          "output_type": "execute_result",
          "data": {
            "application/vnd.google.colaboratory.intrinsic+json": {
              "type": "string"
            },
            "text/plain": [
              "'https://jovian.ml/2017meb1219/zerotopandas-course-project-lohit'"
            ]
          },
          "metadata": {
            "tags": []
          },
          "execution_count": 46
        }
      ]
    },
    {
      "cell_type": "code",
      "metadata": {
        "id": "4VbwdICGRGTD"
      },
      "source": [
        ""
      ],
      "execution_count": null,
      "outputs": []
    }
  ]
}