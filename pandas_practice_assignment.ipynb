{
  "nbformat": 4,
  "nbformat_minor": 0,
  "metadata": {
    "kernelspec": {
      "display_name": "Python 3",
      "language": "python",
      "name": "python3"
    },
    "language_info": {
      "codemirror_mode": {
        "name": "ipython",
        "version": 3
      },
      "file_extension": ".py",
      "mimetype": "text/x-python",
      "name": "python",
      "nbconvert_exporter": "python",
      "pygments_lexer": "ipython3",
      "version": "3.8.5"
    },
    "colab": {
      "name": "pandas-practice-assignment.ipynb",
      "provenance": [],
      "collapsed_sections": [],
      "include_colab_link": true
    }
  },
  "cells": [
    {
      "cell_type": "markdown",
      "metadata": {
        "id": "view-in-github",
        "colab_type": "text"
      },
      "source": [
        "<a href=\"https://colab.research.google.com/github/LohitSubodh/Data-analysis-with-python/blob/main/pandas_practice_assignment.ipynb\" target=\"_parent\"><img src=\"https://colab.research.google.com/assets/colab-badge.svg\" alt=\"Open In Colab\"/></a>"
      ]
    },
    {
      "cell_type": "code",
      "metadata": {
        "id": "KSGPrfg8vQ-S"
      },
      "source": [
        "# Jovian Commit Essentials\n",
        "# Please retain and execute this cell without modifying the contents for `jovian.commit` to work\n",
        "!pip install jovian --upgrade -q\n",
        "import jovian\n",
        "jovian.utils.colab.set_colab_file_id('1JhzAipEUGvGXX5nE7wZV2a9o4XiLT8Ea')"
      ],
      "execution_count": null,
      "outputs": []
    },
    {
      "cell_type": "markdown",
      "metadata": {
        "id": "kUM55qeCvQ-W"
      },
      "source": [
        "# Assignment 3 - Pandas Data Analysis Practice\n",
        "\n",
        "*This assignment is a part of the course [\"Data Analysis with Python: Zero to Pandas\"](https://jovian.ml/learn/data-analysis-with-python-zero-to-pandas)*\n",
        "\n",
        "In this assignment, you'll get to practice some of the concepts and skills covered this tutorial: https://jovian.ml/aakashns/python-pandas-data-analysis\n",
        "\n",
        "As you go through this notebook, you will find a **???** in certain places. To complete this assignment, you must replace all the **???** with appropriate values, expressions or statements to ensure that the notebook runs properly end-to-end. \n",
        "\n",
        "Some things to keep in mind:\n",
        "\n",
        "* Make sure to run all the code cells, otherwise you may get errors like `NameError` for undefined variables.\n",
        "* Do not change variable names, delete cells or disturb other existing code. It may cause problems during evaluation.\n",
        "* In some cases, you may need to add some code cells or new statements before or after the line of code containing the **???**. \n",
        "* Since you'll be using a temporary online service for code execution, save your work by running `jovian.commit` at regular intervals.\n",
        "* Questions marked **(Optional)** will not be considered for evaluation, and can be skipped. They are for your learning.\n",
        "\n",
        "You can make submissions on this page: https://jovian.ml/learn/data-analysis-with-python-zero-to-pandas/assignment/assignment-3-pandas-practice\n",
        "\n",
        "If you are stuck, you can ask for help on the community forum: https://jovian.ml/forum/t/assignment-3-pandas-practice/11225/3 . You can get help with errors or ask for hints, describe your approach in simple words, link to documentation, but **please don't ask for or share the full working answer code** on the forum.\n",
        "\n",
        "\n",
        "## How to run the code and save your work\n",
        "\n",
        "The recommended way to run this notebook is to click the \"Run\" button at the top of this page, and select \"Run on Binder\". This will run the notebook on [mybinder.org](https://mybinder.org), a free online service for running Jupyter notebooks. \n",
        "\n",
        "Before staring the assignment, let's save a snapshot of the assignment to your Jovian.ml profile, so that you can access it later, and continue your work."
      ]
    },
    {
      "cell_type": "code",
      "metadata": {
        "id": "V01kflurvQ-W"
      },
      "source": [
        "import jovian"
      ],
      "execution_count": null,
      "outputs": []
    },
    {
      "cell_type": "code",
      "metadata": {
        "id": "veKGfux_vQ-Z",
        "outputId": "f1782ed3-a03f-4e1e-f977-6e5a95531202",
        "colab": {
          "base_uri": "https://localhost:8080/",
          "height": 86
        }
      },
      "source": [
        "jovian.commit(project='pandas-practice-assignment', environment=None)"
      ],
      "execution_count": null,
      "outputs": [
        {
          "output_type": "stream",
          "text": [
            "[jovian] Detected Colab notebook...\u001b[0m\n",
            "[jovian] Uploading colab notebook to Jovian...\u001b[0m\n",
            "[jovian] Committed successfully! https://jovian.ml/2017meb1219/pandas-practice-assignment\u001b[0m\n"
          ],
          "name": "stdout"
        },
        {
          "output_type": "execute_result",
          "data": {
            "application/vnd.google.colaboratory.intrinsic+json": {
              "type": "string"
            },
            "text/plain": [
              "'https://jovian.ml/2017meb1219/pandas-practice-assignment'"
            ]
          },
          "metadata": {
            "tags": []
          },
          "execution_count": 30
        }
      ]
    },
    {
      "cell_type": "code",
      "metadata": {
        "id": "58nMWybIvQ-c",
        "outputId": "3e7a8c0a-0e14-4c8c-fca0-1dc41bded13b",
        "colab": {
          "base_uri": "https://localhost:8080/",
          "height": 101
        }
      },
      "source": [
        "# Run the next line to install Pandas\n",
        "!pip install pandas --upgrade"
      ],
      "execution_count": null,
      "outputs": [
        {
          "output_type": "stream",
          "text": [
            "Requirement already up-to-date: pandas in /usr/local/lib/python3.6/dist-packages (1.1.2)\n",
            "Requirement already satisfied, skipping upgrade: python-dateutil>=2.7.3 in /usr/local/lib/python3.6/dist-packages (from pandas) (2.8.1)\n",
            "Requirement already satisfied, skipping upgrade: pytz>=2017.2 in /usr/local/lib/python3.6/dist-packages (from pandas) (2018.9)\n",
            "Requirement already satisfied, skipping upgrade: numpy>=1.15.4 in /usr/local/lib/python3.6/dist-packages (from pandas) (1.18.5)\n",
            "Requirement already satisfied, skipping upgrade: six>=1.5 in /usr/local/lib/python3.6/dist-packages (from python-dateutil>=2.7.3->pandas) (1.15.0)\n"
          ],
          "name": "stdout"
        }
      ]
    },
    {
      "cell_type": "code",
      "metadata": {
        "id": "F9rpKyGMvQ-e"
      },
      "source": [
        "import pandas as pd"
      ],
      "execution_count": null,
      "outputs": []
    },
    {
      "cell_type": "markdown",
      "metadata": {
        "id": "_6397lePvQ-h"
      },
      "source": [
        "In this assignment, we're going to analyze an operate on data from a CSV file. Let's begin by downloading the CSV file."
      ]
    },
    {
      "cell_type": "code",
      "metadata": {
        "id": "nRe7VhyivQ-h",
        "outputId": "5c8df06d-b7ab-4d1c-9b23-e8c60a0960f6",
        "colab": {
          "base_uri": "https://localhost:8080/",
          "height": 34
        }
      },
      "source": [
        "from urllib.request import urlretrieve\n",
        "\n",
        "urlretrieve('https://hub.jovian.ml/wp-content/uploads/2020/09/countries.csv', \n",
        "            'countries.csv')"
      ],
      "execution_count": null,
      "outputs": [
        {
          "output_type": "execute_result",
          "data": {
            "text/plain": [
              "('countries.csv', <http.client.HTTPMessage at 0x7f5fe692de48>)"
            ]
          },
          "metadata": {
            "tags": []
          },
          "execution_count": 33
        }
      ]
    },
    {
      "cell_type": "markdown",
      "metadata": {
        "id": "pK062sQYvQ-l"
      },
      "source": [
        "Let's load the data from the CSV file into a Pandas data frame."
      ]
    },
    {
      "cell_type": "code",
      "metadata": {
        "id": "X3vsFcs8vQ-l"
      },
      "source": [
        "countries_df = pd.read_csv('countries.csv')"
      ],
      "execution_count": null,
      "outputs": []
    },
    {
      "cell_type": "code",
      "metadata": {
        "id": "yJLUYVx-vQ-p",
        "outputId": "34dc3aa5-5e3f-48fc-e000-f8283a5dd270",
        "colab": {
          "base_uri": "https://localhost:8080/",
          "height": 402
        }
      },
      "source": [
        "countries_df"
      ],
      "execution_count": null,
      "outputs": [
        {
          "output_type": "execute_result",
          "data": {
            "text/html": [
              "<div>\n",
              "<style scoped>\n",
              "    .dataframe tbody tr th:only-of-type {\n",
              "        vertical-align: middle;\n",
              "    }\n",
              "\n",
              "    .dataframe tbody tr th {\n",
              "        vertical-align: top;\n",
              "    }\n",
              "\n",
              "    .dataframe thead th {\n",
              "        text-align: right;\n",
              "    }\n",
              "</style>\n",
              "<table border=\"1\" class=\"dataframe\">\n",
              "  <thead>\n",
              "    <tr style=\"text-align: right;\">\n",
              "      <th></th>\n",
              "      <th>location</th>\n",
              "      <th>continent</th>\n",
              "      <th>population</th>\n",
              "      <th>life_expectancy</th>\n",
              "      <th>hospital_beds_per_thousand</th>\n",
              "      <th>gdp_per_capita</th>\n",
              "    </tr>\n",
              "  </thead>\n",
              "  <tbody>\n",
              "    <tr>\n",
              "      <th>0</th>\n",
              "      <td>Afghanistan</td>\n",
              "      <td>Asia</td>\n",
              "      <td>38928341.0</td>\n",
              "      <td>64.83</td>\n",
              "      <td>0.50</td>\n",
              "      <td>1803.987</td>\n",
              "    </tr>\n",
              "    <tr>\n",
              "      <th>1</th>\n",
              "      <td>Albania</td>\n",
              "      <td>Europe</td>\n",
              "      <td>2877800.0</td>\n",
              "      <td>78.57</td>\n",
              "      <td>2.89</td>\n",
              "      <td>11803.431</td>\n",
              "    </tr>\n",
              "    <tr>\n",
              "      <th>2</th>\n",
              "      <td>Algeria</td>\n",
              "      <td>Africa</td>\n",
              "      <td>43851043.0</td>\n",
              "      <td>76.88</td>\n",
              "      <td>1.90</td>\n",
              "      <td>13913.839</td>\n",
              "    </tr>\n",
              "    <tr>\n",
              "      <th>3</th>\n",
              "      <td>Andorra</td>\n",
              "      <td>Europe</td>\n",
              "      <td>77265.0</td>\n",
              "      <td>83.73</td>\n",
              "      <td>NaN</td>\n",
              "      <td>NaN</td>\n",
              "    </tr>\n",
              "    <tr>\n",
              "      <th>4</th>\n",
              "      <td>Angola</td>\n",
              "      <td>Africa</td>\n",
              "      <td>32866268.0</td>\n",
              "      <td>61.15</td>\n",
              "      <td>NaN</td>\n",
              "      <td>5819.495</td>\n",
              "    </tr>\n",
              "    <tr>\n",
              "      <th>...</th>\n",
              "      <td>...</td>\n",
              "      <td>...</td>\n",
              "      <td>...</td>\n",
              "      <td>...</td>\n",
              "      <td>...</td>\n",
              "      <td>...</td>\n",
              "    </tr>\n",
              "    <tr>\n",
              "      <th>205</th>\n",
              "      <td>Vietnam</td>\n",
              "      <td>Asia</td>\n",
              "      <td>97338583.0</td>\n",
              "      <td>75.40</td>\n",
              "      <td>2.60</td>\n",
              "      <td>6171.884</td>\n",
              "    </tr>\n",
              "    <tr>\n",
              "      <th>206</th>\n",
              "      <td>Western Sahara</td>\n",
              "      <td>Africa</td>\n",
              "      <td>597330.0</td>\n",
              "      <td>70.26</td>\n",
              "      <td>NaN</td>\n",
              "      <td>NaN</td>\n",
              "    </tr>\n",
              "    <tr>\n",
              "      <th>207</th>\n",
              "      <td>Yemen</td>\n",
              "      <td>Asia</td>\n",
              "      <td>29825968.0</td>\n",
              "      <td>66.12</td>\n",
              "      <td>0.70</td>\n",
              "      <td>1479.147</td>\n",
              "    </tr>\n",
              "    <tr>\n",
              "      <th>208</th>\n",
              "      <td>Zambia</td>\n",
              "      <td>Africa</td>\n",
              "      <td>18383956.0</td>\n",
              "      <td>63.89</td>\n",
              "      <td>2.00</td>\n",
              "      <td>3689.251</td>\n",
              "    </tr>\n",
              "    <tr>\n",
              "      <th>209</th>\n",
              "      <td>Zimbabwe</td>\n",
              "      <td>Africa</td>\n",
              "      <td>14862927.0</td>\n",
              "      <td>61.49</td>\n",
              "      <td>1.70</td>\n",
              "      <td>1899.775</td>\n",
              "    </tr>\n",
              "  </tbody>\n",
              "</table>\n",
              "<p>210 rows × 6 columns</p>\n",
              "</div>"
            ],
            "text/plain": [
              "           location continent  ...  hospital_beds_per_thousand  gdp_per_capita\n",
              "0       Afghanistan      Asia  ...                        0.50        1803.987\n",
              "1           Albania    Europe  ...                        2.89       11803.431\n",
              "2           Algeria    Africa  ...                        1.90       13913.839\n",
              "3           Andorra    Europe  ...                         NaN             NaN\n",
              "4            Angola    Africa  ...                         NaN        5819.495\n",
              "..              ...       ...  ...                         ...             ...\n",
              "205         Vietnam      Asia  ...                        2.60        6171.884\n",
              "206  Western Sahara    Africa  ...                         NaN             NaN\n",
              "207           Yemen      Asia  ...                        0.70        1479.147\n",
              "208          Zambia    Africa  ...                        2.00        3689.251\n",
              "209        Zimbabwe    Africa  ...                        1.70        1899.775\n",
              "\n",
              "[210 rows x 6 columns]"
            ]
          },
          "metadata": {
            "tags": []
          },
          "execution_count": 6
        }
      ]
    },
    {
      "cell_type": "markdown",
      "metadata": {
        "id": "40yN4yLPvQ-r"
      },
      "source": [
        "**Q: How many countries does the dataframe contain?**\n",
        "\n",
        "Hint: Use the `.shape` method."
      ]
    },
    {
      "cell_type": "code",
      "metadata": {
        "id": "KfpewJo5vQ-r"
      },
      "source": [
        "num_countries = countries_df.shape[0]"
      ],
      "execution_count": null,
      "outputs": []
    },
    {
      "cell_type": "code",
      "metadata": {
        "id": "mc7_DwRBvQ-t",
        "outputId": "9755b50e-a20c-4e71-cdfe-d9016b166f91",
        "colab": {
          "base_uri": "https://localhost:8080/",
          "height": 34
        }
      },
      "source": [
        "print('There are {} countries in the dataset'.format(num_countries))"
      ],
      "execution_count": null,
      "outputs": [
        {
          "output_type": "stream",
          "text": [
            "There are 210 countries in the dataset\n"
          ],
          "name": "stdout"
        }
      ]
    },
    {
      "cell_type": "code",
      "metadata": {
        "id": "DUEqjcQlvQ-v",
        "outputId": "d85c5666-9a11-4cba-cc90-dc6acf84dfc9",
        "colab": {
          "base_uri": "https://localhost:8080/",
          "height": 86
        }
      },
      "source": [
        "jovian.commit(project='pandas-practice-assignment', environment=None)"
      ],
      "execution_count": null,
      "outputs": [
        {
          "output_type": "stream",
          "text": [
            "[jovian] Detected Colab notebook...\u001b[0m\n",
            "[jovian] Uploading colab notebook to Jovian...\u001b[0m\n",
            "[jovian] Committed successfully! https://jovian.ml/2017meb1219/pandas-practice-assignment\u001b[0m\n"
          ],
          "name": "stdout"
        },
        {
          "output_type": "execute_result",
          "data": {
            "application/vnd.google.colaboratory.intrinsic+json": {
              "type": "string"
            },
            "text/plain": [
              "'https://jovian.ml/2017meb1219/pandas-practice-assignment'"
            ]
          },
          "metadata": {
            "tags": []
          },
          "execution_count": 13
        }
      ]
    },
    {
      "cell_type": "markdown",
      "metadata": {
        "id": "5gn9uDQ2vQ-y"
      },
      "source": [
        "**Q: Retrieve a list of continents from the dataframe?**\n",
        "\n",
        "*Hint: Use the `.unique` method of a series.*"
      ]
    },
    {
      "cell_type": "code",
      "metadata": {
        "id": "61iNmg2svQ-y"
      },
      "source": [
        "continents = countries_df.continent.unique()"
      ],
      "execution_count": null,
      "outputs": []
    },
    {
      "cell_type": "code",
      "metadata": {
        "id": "TJXaR_5YvQ-0",
        "outputId": "1b4c825e-65cb-4fe1-cf5f-604d744eae87",
        "colab": {
          "base_uri": "https://localhost:8080/",
          "height": 50
        }
      },
      "source": [
        "continents"
      ],
      "execution_count": null,
      "outputs": [
        {
          "output_type": "execute_result",
          "data": {
            "text/plain": [
              "array(['Asia', 'Europe', 'Africa', 'North America', 'South America',\n",
              "       'Oceania'], dtype=object)"
            ]
          },
          "metadata": {
            "tags": []
          },
          "execution_count": 15
        }
      ]
    },
    {
      "cell_type": "code",
      "metadata": {
        "id": "HhiMXWVwvQ-2",
        "outputId": "ed76aec2-a493-48a8-9715-23cc9eab7c58",
        "colab": {
          "base_uri": "https://localhost:8080/",
          "height": 86
        }
      },
      "source": [
        "jovian.commit(project='pandas-practice-assignment', environment=None)"
      ],
      "execution_count": null,
      "outputs": [
        {
          "output_type": "stream",
          "text": [
            "[jovian] Detected Colab notebook...\u001b[0m\n",
            "[jovian] Uploading colab notebook to Jovian...\u001b[0m\n",
            "[jovian] Committed successfully! https://jovian.ml/2017meb1219/pandas-practice-assignment\u001b[0m\n"
          ],
          "name": "stdout"
        },
        {
          "output_type": "execute_result",
          "data": {
            "application/vnd.google.colaboratory.intrinsic+json": {
              "type": "string"
            },
            "text/plain": [
              "'https://jovian.ml/2017meb1219/pandas-practice-assignment'"
            ]
          },
          "metadata": {
            "tags": []
          },
          "execution_count": 16
        }
      ]
    },
    {
      "cell_type": "markdown",
      "metadata": {
        "id": "oCJR6uJ9vQ-4"
      },
      "source": [
        "**Q: What is the total population of all the countries listed in this dataset?**"
      ]
    },
    {
      "cell_type": "code",
      "metadata": {
        "id": "WtRRdKrevQ-5"
      },
      "source": [
        "total_population = countries_df.population.sum()"
      ],
      "execution_count": null,
      "outputs": []
    },
    {
      "cell_type": "code",
      "metadata": {
        "id": "9Qj2KBSuvQ-7",
        "outputId": "b9aa50f3-f3a5-4f05-fd4d-431dd74ec568",
        "colab": {
          "base_uri": "https://localhost:8080/",
          "height": 34
        }
      },
      "source": [
        "print('The total population is {}.'.format(int(total_population)))"
      ],
      "execution_count": null,
      "outputs": [
        {
          "output_type": "stream",
          "text": [
            "The total population is 7757980095.\n"
          ],
          "name": "stdout"
        }
      ]
    },
    {
      "cell_type": "code",
      "metadata": {
        "id": "QujUNBWlvQ-9",
        "outputId": "490962a3-1377-4940-aaaf-74c9af6b6575",
        "colab": {
          "base_uri": "https://localhost:8080/",
          "height": 86
        }
      },
      "source": [
        "jovian.commit(project='pandas-practice-assignment', environment=None)"
      ],
      "execution_count": null,
      "outputs": [
        {
          "output_type": "stream",
          "text": [
            "[jovian] Detected Colab notebook...\u001b[0m\n",
            "[jovian] Uploading colab notebook to Jovian...\u001b[0m\n",
            "[jovian] Committed successfully! https://jovian.ml/2017meb1219/pandas-practice-assignment\u001b[0m\n"
          ],
          "name": "stdout"
        },
        {
          "output_type": "execute_result",
          "data": {
            "application/vnd.google.colaboratory.intrinsic+json": {
              "type": "string"
            },
            "text/plain": [
              "'https://jovian.ml/2017meb1219/pandas-practice-assignment'"
            ]
          },
          "metadata": {
            "tags": []
          },
          "execution_count": 19
        }
      ]
    },
    {
      "cell_type": "markdown",
      "metadata": {
        "id": "5WsArJw7vQ_C"
      },
      "source": [
        "**Q: (Optional) What is the overall life expectancy across in the world?**\n",
        "\n",
        "*Hint: You'll need to take a weighted average of life expectancy using populations as weights.*"
      ]
    },
    {
      "cell_type": "code",
      "metadata": {
        "id": "AtGUps-WvQ_D"
      },
      "source": [
        ""
      ],
      "execution_count": null,
      "outputs": []
    },
    {
      "cell_type": "code",
      "metadata": {
        "id": "eQCxhFKvvQ_J"
      },
      "source": [
        ""
      ],
      "execution_count": null,
      "outputs": []
    },
    {
      "cell_type": "code",
      "metadata": {
        "id": "DkCjJtIVvQ_N"
      },
      "source": [
        "jovian.commit(project='pandas-practice-assignment', environment=None)"
      ],
      "execution_count": null,
      "outputs": []
    },
    {
      "cell_type": "markdown",
      "metadata": {
        "id": "RKJjPlUsvQ_U"
      },
      "source": [
        "**Q: Create a dataframe containing 10 countries with the highest population.**\n",
        "\n",
        "*Hint: Chain the `sort_values` and `head` methods.*"
      ]
    },
    {
      "cell_type": "code",
      "metadata": {
        "id": "9sqo_JIuvQ_U"
      },
      "source": [
        "most_populous_df = countries_df.sort_values(by=['population'],ascending=False).head()"
      ],
      "execution_count": null,
      "outputs": []
    },
    {
      "cell_type": "code",
      "metadata": {
        "id": "pREPwJQ7vQ_W",
        "outputId": "d69842f9-a4fe-4d35-9082-f0770350ffa6",
        "colab": {
          "base_uri": "https://localhost:8080/",
          "height": 195
        }
      },
      "source": [
        "most_populous_df"
      ],
      "execution_count": null,
      "outputs": [
        {
          "output_type": "execute_result",
          "data": {
            "text/html": [
              "<div>\n",
              "<style scoped>\n",
              "    .dataframe tbody tr th:only-of-type {\n",
              "        vertical-align: middle;\n",
              "    }\n",
              "\n",
              "    .dataframe tbody tr th {\n",
              "        vertical-align: top;\n",
              "    }\n",
              "\n",
              "    .dataframe thead th {\n",
              "        text-align: right;\n",
              "    }\n",
              "</style>\n",
              "<table border=\"1\" class=\"dataframe\">\n",
              "  <thead>\n",
              "    <tr style=\"text-align: right;\">\n",
              "      <th></th>\n",
              "      <th>location</th>\n",
              "      <th>continent</th>\n",
              "      <th>population</th>\n",
              "      <th>life_expectancy</th>\n",
              "      <th>hospital_beds_per_thousand</th>\n",
              "      <th>gdp_per_capita</th>\n",
              "    </tr>\n",
              "  </thead>\n",
              "  <tbody>\n",
              "    <tr>\n",
              "      <th>41</th>\n",
              "      <td>China</td>\n",
              "      <td>Asia</td>\n",
              "      <td>1.439324e+09</td>\n",
              "      <td>76.91</td>\n",
              "      <td>4.34</td>\n",
              "      <td>15308.712</td>\n",
              "    </tr>\n",
              "    <tr>\n",
              "      <th>90</th>\n",
              "      <td>India</td>\n",
              "      <td>Asia</td>\n",
              "      <td>1.380004e+09</td>\n",
              "      <td>69.66</td>\n",
              "      <td>0.53</td>\n",
              "      <td>6426.674</td>\n",
              "    </tr>\n",
              "    <tr>\n",
              "      <th>199</th>\n",
              "      <td>United States</td>\n",
              "      <td>North America</td>\n",
              "      <td>3.310026e+08</td>\n",
              "      <td>78.86</td>\n",
              "      <td>2.77</td>\n",
              "      <td>54225.446</td>\n",
              "    </tr>\n",
              "    <tr>\n",
              "      <th>91</th>\n",
              "      <td>Indonesia</td>\n",
              "      <td>Asia</td>\n",
              "      <td>2.735236e+08</td>\n",
              "      <td>71.72</td>\n",
              "      <td>1.04</td>\n",
              "      <td>11188.744</td>\n",
              "    </tr>\n",
              "    <tr>\n",
              "      <th>145</th>\n",
              "      <td>Pakistan</td>\n",
              "      <td>Asia</td>\n",
              "      <td>2.208923e+08</td>\n",
              "      <td>67.27</td>\n",
              "      <td>0.60</td>\n",
              "      <td>5034.708</td>\n",
              "    </tr>\n",
              "  </tbody>\n",
              "</table>\n",
              "</div>"
            ],
            "text/plain": [
              "          location      continent  ...  hospital_beds_per_thousand  gdp_per_capita\n",
              "41           China           Asia  ...                        4.34       15308.712\n",
              "90           India           Asia  ...                        0.53        6426.674\n",
              "199  United States  North America  ...                        2.77       54225.446\n",
              "91       Indonesia           Asia  ...                        1.04       11188.744\n",
              "145       Pakistan           Asia  ...                        0.60        5034.708\n",
              "\n",
              "[5 rows x 6 columns]"
            ]
          },
          "metadata": {
            "tags": []
          },
          "execution_count": 21
        }
      ]
    },
    {
      "cell_type": "code",
      "metadata": {
        "id": "tq-hKOZZvQ_Y",
        "outputId": "1d9ef15b-8d6d-4c17-ad80-b25bd6aa4ea8",
        "colab": {
          "base_uri": "https://localhost:8080/",
          "height": 86
        }
      },
      "source": [
        "jovian.commit(project='pandas-practice-assignment', environment=None)"
      ],
      "execution_count": null,
      "outputs": [
        {
          "output_type": "stream",
          "text": [
            "[jovian] Detected Colab notebook...\u001b[0m\n",
            "[jovian] Uploading colab notebook to Jovian...\u001b[0m\n",
            "[jovian] Committed successfully! https://jovian.ml/2017meb1219/pandas-practice-assignment\u001b[0m\n"
          ],
          "name": "stdout"
        },
        {
          "output_type": "execute_result",
          "data": {
            "application/vnd.google.colaboratory.intrinsic+json": {
              "type": "string"
            },
            "text/plain": [
              "'https://jovian.ml/2017meb1219/pandas-practice-assignment'"
            ]
          },
          "metadata": {
            "tags": []
          },
          "execution_count": 22
        }
      ]
    },
    {
      "cell_type": "markdown",
      "metadata": {
        "id": "gf7FMFqlvQ_a"
      },
      "source": [
        "**Q: Add a new column in `countries_df` to record the overall GDP per country (product of population & per capita GDP).**\n",
        "\n"
      ]
    },
    {
      "cell_type": "code",
      "metadata": {
        "id": "Emu6P7vDvQ_b"
      },
      "source": [
        "countries_df['gdp'] = countries_df.apply(lambda row: row.population* \n",
        "                                  row.gdp_per_capita, axis = 1)"
      ],
      "execution_count": null,
      "outputs": []
    },
    {
      "cell_type": "code",
      "metadata": {
        "id": "OBBhW3irvQ_e",
        "outputId": "3a71b3e5-8237-479f-e280-e90f3eb4c838",
        "colab": {
          "base_uri": "https://localhost:8080/",
          "height": 402
        }
      },
      "source": [
        "countries_df"
      ],
      "execution_count": null,
      "outputs": [
        {
          "output_type": "execute_result",
          "data": {
            "text/html": [
              "<div>\n",
              "<style scoped>\n",
              "    .dataframe tbody tr th:only-of-type {\n",
              "        vertical-align: middle;\n",
              "    }\n",
              "\n",
              "    .dataframe tbody tr th {\n",
              "        vertical-align: top;\n",
              "    }\n",
              "\n",
              "    .dataframe thead th {\n",
              "        text-align: right;\n",
              "    }\n",
              "</style>\n",
              "<table border=\"1\" class=\"dataframe\">\n",
              "  <thead>\n",
              "    <tr style=\"text-align: right;\">\n",
              "      <th></th>\n",
              "      <th>location</th>\n",
              "      <th>continent</th>\n",
              "      <th>population</th>\n",
              "      <th>life_expectancy</th>\n",
              "      <th>hospital_beds_per_thousand</th>\n",
              "      <th>gdp_per_capita</th>\n",
              "      <th>gdp</th>\n",
              "    </tr>\n",
              "  </thead>\n",
              "  <tbody>\n",
              "    <tr>\n",
              "      <th>0</th>\n",
              "      <td>Afghanistan</td>\n",
              "      <td>Asia</td>\n",
              "      <td>38928341.0</td>\n",
              "      <td>64.83</td>\n",
              "      <td>0.50</td>\n",
              "      <td>1803.987</td>\n",
              "      <td>7.022622e+10</td>\n",
              "    </tr>\n",
              "    <tr>\n",
              "      <th>1</th>\n",
              "      <td>Albania</td>\n",
              "      <td>Europe</td>\n",
              "      <td>2877800.0</td>\n",
              "      <td>78.57</td>\n",
              "      <td>2.89</td>\n",
              "      <td>11803.431</td>\n",
              "      <td>3.396791e+10</td>\n",
              "    </tr>\n",
              "    <tr>\n",
              "      <th>2</th>\n",
              "      <td>Algeria</td>\n",
              "      <td>Africa</td>\n",
              "      <td>43851043.0</td>\n",
              "      <td>76.88</td>\n",
              "      <td>1.90</td>\n",
              "      <td>13913.839</td>\n",
              "      <td>6.101364e+11</td>\n",
              "    </tr>\n",
              "    <tr>\n",
              "      <th>3</th>\n",
              "      <td>Andorra</td>\n",
              "      <td>Europe</td>\n",
              "      <td>77265.0</td>\n",
              "      <td>83.73</td>\n",
              "      <td>NaN</td>\n",
              "      <td>NaN</td>\n",
              "      <td>NaN</td>\n",
              "    </tr>\n",
              "    <tr>\n",
              "      <th>4</th>\n",
              "      <td>Angola</td>\n",
              "      <td>Africa</td>\n",
              "      <td>32866268.0</td>\n",
              "      <td>61.15</td>\n",
              "      <td>NaN</td>\n",
              "      <td>5819.495</td>\n",
              "      <td>1.912651e+11</td>\n",
              "    </tr>\n",
              "    <tr>\n",
              "      <th>...</th>\n",
              "      <td>...</td>\n",
              "      <td>...</td>\n",
              "      <td>...</td>\n",
              "      <td>...</td>\n",
              "      <td>...</td>\n",
              "      <td>...</td>\n",
              "      <td>...</td>\n",
              "    </tr>\n",
              "    <tr>\n",
              "      <th>205</th>\n",
              "      <td>Vietnam</td>\n",
              "      <td>Asia</td>\n",
              "      <td>97338583.0</td>\n",
              "      <td>75.40</td>\n",
              "      <td>2.60</td>\n",
              "      <td>6171.884</td>\n",
              "      <td>6.007624e+11</td>\n",
              "    </tr>\n",
              "    <tr>\n",
              "      <th>206</th>\n",
              "      <td>Western Sahara</td>\n",
              "      <td>Africa</td>\n",
              "      <td>597330.0</td>\n",
              "      <td>70.26</td>\n",
              "      <td>NaN</td>\n",
              "      <td>NaN</td>\n",
              "      <td>NaN</td>\n",
              "    </tr>\n",
              "    <tr>\n",
              "      <th>207</th>\n",
              "      <td>Yemen</td>\n",
              "      <td>Asia</td>\n",
              "      <td>29825968.0</td>\n",
              "      <td>66.12</td>\n",
              "      <td>0.70</td>\n",
              "      <td>1479.147</td>\n",
              "      <td>4.411699e+10</td>\n",
              "    </tr>\n",
              "    <tr>\n",
              "      <th>208</th>\n",
              "      <td>Zambia</td>\n",
              "      <td>Africa</td>\n",
              "      <td>18383956.0</td>\n",
              "      <td>63.89</td>\n",
              "      <td>2.00</td>\n",
              "      <td>3689.251</td>\n",
              "      <td>6.782303e+10</td>\n",
              "    </tr>\n",
              "    <tr>\n",
              "      <th>209</th>\n",
              "      <td>Zimbabwe</td>\n",
              "      <td>Africa</td>\n",
              "      <td>14862927.0</td>\n",
              "      <td>61.49</td>\n",
              "      <td>1.70</td>\n",
              "      <td>1899.775</td>\n",
              "      <td>2.823622e+10</td>\n",
              "    </tr>\n",
              "  </tbody>\n",
              "</table>\n",
              "<p>210 rows × 7 columns</p>\n",
              "</div>"
            ],
            "text/plain": [
              "           location continent  ...  gdp_per_capita           gdp\n",
              "0       Afghanistan      Asia  ...        1803.987  7.022622e+10\n",
              "1           Albania    Europe  ...       11803.431  3.396791e+10\n",
              "2           Algeria    Africa  ...       13913.839  6.101364e+11\n",
              "3           Andorra    Europe  ...             NaN           NaN\n",
              "4            Angola    Africa  ...        5819.495  1.912651e+11\n",
              "..              ...       ...  ...             ...           ...\n",
              "205         Vietnam      Asia  ...        6171.884  6.007624e+11\n",
              "206  Western Sahara    Africa  ...             NaN           NaN\n",
              "207           Yemen      Asia  ...        1479.147  4.411699e+10\n",
              "208          Zambia    Africa  ...        3689.251  6.782303e+10\n",
              "209        Zimbabwe    Africa  ...        1899.775  2.823622e+10\n",
              "\n",
              "[210 rows x 7 columns]"
            ]
          },
          "metadata": {
            "tags": []
          },
          "execution_count": 24
        }
      ]
    },
    {
      "cell_type": "code",
      "metadata": {
        "id": "dURW5AzRvQ_g",
        "outputId": "7ccf0317-9926-4a83-8929-b3be5dcf588c",
        "colab": {
          "base_uri": "https://localhost:8080/",
          "height": 86
        }
      },
      "source": [
        "jovian.commit(project='pandas-practice-assignment', environment=None)"
      ],
      "execution_count": null,
      "outputs": [
        {
          "output_type": "stream",
          "text": [
            "[jovian] Detected Colab notebook...\u001b[0m\n",
            "[jovian] Uploading colab notebook to Jovian...\u001b[0m\n",
            "[jovian] Committed successfully! https://jovian.ml/2017meb1219/pandas-practice-assignment\u001b[0m\n"
          ],
          "name": "stdout"
        },
        {
          "output_type": "execute_result",
          "data": {
            "application/vnd.google.colaboratory.intrinsic+json": {
              "type": "string"
            },
            "text/plain": [
              "'https://jovian.ml/2017meb1219/pandas-practice-assignment'"
            ]
          },
          "metadata": {
            "tags": []
          },
          "execution_count": 25
        }
      ]
    },
    {
      "cell_type": "markdown",
      "metadata": {
        "id": "yPMBMIo3vQ_i"
      },
      "source": [
        "**Q: (Optional) Create a dataframe containing 10 countries with the lowest GDP per capita, among the counties with population greater than 100 million.**"
      ]
    },
    {
      "cell_type": "code",
      "metadata": {
        "id": "JyRssuL2vQ_i"
      },
      "source": [
        ""
      ],
      "execution_count": null,
      "outputs": []
    },
    {
      "cell_type": "code",
      "metadata": {
        "id": "WPb-EZDQvQ_k"
      },
      "source": [
        ""
      ],
      "execution_count": null,
      "outputs": []
    },
    {
      "cell_type": "code",
      "metadata": {
        "id": "5WSAcYsYvQ_n"
      },
      "source": [
        "jovian.commit(project='pandas-practice-assignment', environment=None)"
      ],
      "execution_count": null,
      "outputs": []
    },
    {
      "cell_type": "markdown",
      "metadata": {
        "id": "pnHU7LwxvQ_q"
      },
      "source": [
        "**Q: Create a data frame that counts the number countries in each continent?**\n",
        "\n",
        "*Hint: Use `groupby`, select the `location` column and aggregate using `count`.*"
      ]
    },
    {
      "cell_type": "code",
      "metadata": {
        "id": "objLG_fbvQ_q"
      },
      "source": [
        "country_counts_df = countries_df.groupby(['continent']).agg({'location':'count'})"
      ],
      "execution_count": null,
      "outputs": []
    },
    {
      "cell_type": "code",
      "metadata": {
        "id": "8h-kcx8rvQ_s",
        "outputId": "a0d5bb1c-6552-4f91-81cc-9f8604024341",
        "colab": {
          "base_uri": "https://localhost:8080/",
          "height": 254
        }
      },
      "source": [
        "country_counts_df"
      ],
      "execution_count": null,
      "outputs": [
        {
          "output_type": "execute_result",
          "data": {
            "text/html": [
              "<div>\n",
              "<style scoped>\n",
              "    .dataframe tbody tr th:only-of-type {\n",
              "        vertical-align: middle;\n",
              "    }\n",
              "\n",
              "    .dataframe tbody tr th {\n",
              "        vertical-align: top;\n",
              "    }\n",
              "\n",
              "    .dataframe thead th {\n",
              "        text-align: right;\n",
              "    }\n",
              "</style>\n",
              "<table border=\"1\" class=\"dataframe\">\n",
              "  <thead>\n",
              "    <tr style=\"text-align: right;\">\n",
              "      <th></th>\n",
              "      <th>location</th>\n",
              "    </tr>\n",
              "    <tr>\n",
              "      <th>continent</th>\n",
              "      <th></th>\n",
              "    </tr>\n",
              "  </thead>\n",
              "  <tbody>\n",
              "    <tr>\n",
              "      <th>Africa</th>\n",
              "      <td>55</td>\n",
              "    </tr>\n",
              "    <tr>\n",
              "      <th>Asia</th>\n",
              "      <td>47</td>\n",
              "    </tr>\n",
              "    <tr>\n",
              "      <th>Europe</th>\n",
              "      <td>51</td>\n",
              "    </tr>\n",
              "    <tr>\n",
              "      <th>North America</th>\n",
              "      <td>36</td>\n",
              "    </tr>\n",
              "    <tr>\n",
              "      <th>Oceania</th>\n",
              "      <td>8</td>\n",
              "    </tr>\n",
              "    <tr>\n",
              "      <th>South America</th>\n",
              "      <td>13</td>\n",
              "    </tr>\n",
              "  </tbody>\n",
              "</table>\n",
              "</div>"
            ],
            "text/plain": [
              "               location\n",
              "continent              \n",
              "Africa               55\n",
              "Asia                 47\n",
              "Europe               51\n",
              "North America        36\n",
              "Oceania               8\n",
              "South America        13"
            ]
          },
          "metadata": {
            "tags": []
          },
          "execution_count": 70
        }
      ]
    },
    {
      "cell_type": "code",
      "metadata": {
        "id": "Bx913Gr3vQ_t",
        "outputId": "2ae8c85f-2ba7-4dc5-8e08-a965a06947ca",
        "colab": {
          "base_uri": "https://localhost:8080/",
          "height": 86
        }
      },
      "source": [
        "jovian.commit(project='pandas-practice-assignment', environment=None)"
      ],
      "execution_count": null,
      "outputs": [
        {
          "output_type": "stream",
          "text": [
            "[jovian] Detected Colab notebook...\u001b[0m\n",
            "[jovian] Uploading colab notebook to Jovian...\u001b[0m\n",
            "[jovian] Committed successfully! https://jovian.ml/2017meb1219/pandas-practice-assignment\u001b[0m\n"
          ],
          "name": "stdout"
        },
        {
          "output_type": "execute_result",
          "data": {
            "application/vnd.google.colaboratory.intrinsic+json": {
              "type": "string"
            },
            "text/plain": [
              "'https://jovian.ml/2017meb1219/pandas-practice-assignment'"
            ]
          },
          "metadata": {
            "tags": []
          },
          "execution_count": 58
        }
      ]
    },
    {
      "cell_type": "markdown",
      "metadata": {
        "id": "cE2kB_D3vQ_v"
      },
      "source": [
        "**Q: Create a data frame showing the total population of each continent.**\n",
        "\n",
        "*Hint: Use `groupby`, select the population column and aggregate using `sum`.*"
      ]
    },
    {
      "cell_type": "code",
      "metadata": {
        "id": "75M2MvIJvQ_w"
      },
      "source": [
        "continent_populations_df = countries_df.groupby(['continent']).aggregate({\"population\":'sum'})"
      ],
      "execution_count": null,
      "outputs": []
    },
    {
      "cell_type": "code",
      "metadata": {
        "id": "sQVKaBJzvQ_y",
        "outputId": "e7da391e-c9a9-4af5-a475-ff2bdf59310c",
        "colab": {
          "base_uri": "https://localhost:8080/",
          "height": 254
        }
      },
      "source": [
        "continent_populations_df"
      ],
      "execution_count": null,
      "outputs": [
        {
          "output_type": "execute_result",
          "data": {
            "text/html": [
              "<div>\n",
              "<style scoped>\n",
              "    .dataframe tbody tr th:only-of-type {\n",
              "        vertical-align: middle;\n",
              "    }\n",
              "\n",
              "    .dataframe tbody tr th {\n",
              "        vertical-align: top;\n",
              "    }\n",
              "\n",
              "    .dataframe thead th {\n",
              "        text-align: right;\n",
              "    }\n",
              "</style>\n",
              "<table border=\"1\" class=\"dataframe\">\n",
              "  <thead>\n",
              "    <tr style=\"text-align: right;\">\n",
              "      <th></th>\n",
              "      <th>population</th>\n",
              "    </tr>\n",
              "    <tr>\n",
              "      <th>continent</th>\n",
              "      <th></th>\n",
              "    </tr>\n",
              "  </thead>\n",
              "  <tbody>\n",
              "    <tr>\n",
              "      <th>Africa</th>\n",
              "      <td>1.339424e+09</td>\n",
              "    </tr>\n",
              "    <tr>\n",
              "      <th>Asia</th>\n",
              "      <td>4.607388e+09</td>\n",
              "    </tr>\n",
              "    <tr>\n",
              "      <th>Europe</th>\n",
              "      <td>7.485062e+08</td>\n",
              "    </tr>\n",
              "    <tr>\n",
              "      <th>North America</th>\n",
              "      <td>5.912425e+08</td>\n",
              "    </tr>\n",
              "    <tr>\n",
              "      <th>Oceania</th>\n",
              "      <td>4.095832e+07</td>\n",
              "    </tr>\n",
              "    <tr>\n",
              "      <th>South America</th>\n",
              "      <td>4.304611e+08</td>\n",
              "    </tr>\n",
              "  </tbody>\n",
              "</table>\n",
              "</div>"
            ],
            "text/plain": [
              "                 population\n",
              "continent                  \n",
              "Africa         1.339424e+09\n",
              "Asia           4.607388e+09\n",
              "Europe         7.485062e+08\n",
              "North America  5.912425e+08\n",
              "Oceania        4.095832e+07\n",
              "South America  4.304611e+08"
            ]
          },
          "metadata": {
            "tags": []
          },
          "execution_count": 68
        }
      ]
    },
    {
      "cell_type": "code",
      "metadata": {
        "id": "0p7D1NMkvQ_1",
        "outputId": "1a0cf784-3fb4-427f-8c86-14dd92adb1d1",
        "colab": {
          "base_uri": "https://localhost:8080/",
          "height": 86
        }
      },
      "source": [
        "jovian.commit(project='pandas-practice-assignment', environment=None)"
      ],
      "execution_count": null,
      "outputs": [
        {
          "output_type": "stream",
          "text": [
            "[jovian] Detected Colab notebook...\u001b[0m\n",
            "[jovian] Uploading colab notebook to Jovian...\u001b[0m\n",
            "[jovian] Committed successfully! https://jovian.ml/2017meb1219/pandas-practice-assignment\u001b[0m\n"
          ],
          "name": "stdout"
        },
        {
          "output_type": "execute_result",
          "data": {
            "application/vnd.google.colaboratory.intrinsic+json": {
              "type": "string"
            },
            "text/plain": [
              "'https://jovian.ml/2017meb1219/pandas-practice-assignment'"
            ]
          },
          "metadata": {
            "tags": []
          },
          "execution_count": 71
        }
      ]
    },
    {
      "cell_type": "markdown",
      "metadata": {
        "id": "-MM2EUVQvQ_3"
      },
      "source": [
        "Let's download another CSV file containing overall Covid-19 stats for various countires, and read the data into another Pandas data frame."
      ]
    },
    {
      "cell_type": "code",
      "metadata": {
        "id": "kCZ1DkiDvQ_4",
        "outputId": "fb820816-e7d9-4911-9ec9-354af788d55f",
        "colab": {
          "base_uri": "https://localhost:8080/",
          "height": 34
        }
      },
      "source": [
        "urlretrieve('https://hub.jovian.ml/wp-content/uploads/2020/09/covid-countries-data.csv', \n",
        "            'covid-countries-data.csv')"
      ],
      "execution_count": null,
      "outputs": [
        {
          "output_type": "execute_result",
          "data": {
            "text/plain": [
              "('covid-countries-data.csv', <http.client.HTTPMessage at 0x7f5fe67405f8>)"
            ]
          },
          "metadata": {
            "tags": []
          },
          "execution_count": 72
        }
      ]
    },
    {
      "cell_type": "code",
      "metadata": {
        "id": "SLBl7t-kvQ_5"
      },
      "source": [
        "covid_data_df = pd.read_csv('covid-countries-data.csv')"
      ],
      "execution_count": null,
      "outputs": []
    },
    {
      "cell_type": "code",
      "metadata": {
        "scrolled": true,
        "id": "A9a4x4RMvQ_7",
        "outputId": "7d9aad44-c3b5-4136-b158-43227bb180f6",
        "colab": {
          "base_uri": "https://localhost:8080/",
          "height": 402
        }
      },
      "source": [
        "covid_data_df"
      ],
      "execution_count": null,
      "outputs": [
        {
          "output_type": "execute_result",
          "data": {
            "text/html": [
              "<div>\n",
              "<style scoped>\n",
              "    .dataframe tbody tr th:only-of-type {\n",
              "        vertical-align: middle;\n",
              "    }\n",
              "\n",
              "    .dataframe tbody tr th {\n",
              "        vertical-align: top;\n",
              "    }\n",
              "\n",
              "    .dataframe thead th {\n",
              "        text-align: right;\n",
              "    }\n",
              "</style>\n",
              "<table border=\"1\" class=\"dataframe\">\n",
              "  <thead>\n",
              "    <tr style=\"text-align: right;\">\n",
              "      <th></th>\n",
              "      <th>location</th>\n",
              "      <th>total_cases</th>\n",
              "      <th>total_deaths</th>\n",
              "      <th>total_tests</th>\n",
              "    </tr>\n",
              "  </thead>\n",
              "  <tbody>\n",
              "    <tr>\n",
              "      <th>0</th>\n",
              "      <td>Afghanistan</td>\n",
              "      <td>38243.0</td>\n",
              "      <td>1409.0</td>\n",
              "      <td>NaN</td>\n",
              "    </tr>\n",
              "    <tr>\n",
              "      <th>1</th>\n",
              "      <td>Albania</td>\n",
              "      <td>9728.0</td>\n",
              "      <td>296.0</td>\n",
              "      <td>NaN</td>\n",
              "    </tr>\n",
              "    <tr>\n",
              "      <th>2</th>\n",
              "      <td>Algeria</td>\n",
              "      <td>45158.0</td>\n",
              "      <td>1525.0</td>\n",
              "      <td>NaN</td>\n",
              "    </tr>\n",
              "    <tr>\n",
              "      <th>3</th>\n",
              "      <td>Andorra</td>\n",
              "      <td>1199.0</td>\n",
              "      <td>53.0</td>\n",
              "      <td>NaN</td>\n",
              "    </tr>\n",
              "    <tr>\n",
              "      <th>4</th>\n",
              "      <td>Angola</td>\n",
              "      <td>2729.0</td>\n",
              "      <td>109.0</td>\n",
              "      <td>NaN</td>\n",
              "    </tr>\n",
              "    <tr>\n",
              "      <th>...</th>\n",
              "      <td>...</td>\n",
              "      <td>...</td>\n",
              "      <td>...</td>\n",
              "      <td>...</td>\n",
              "    </tr>\n",
              "    <tr>\n",
              "      <th>207</th>\n",
              "      <td>Western Sahara</td>\n",
              "      <td>766.0</td>\n",
              "      <td>1.0</td>\n",
              "      <td>NaN</td>\n",
              "    </tr>\n",
              "    <tr>\n",
              "      <th>208</th>\n",
              "      <td>World</td>\n",
              "      <td>26059065.0</td>\n",
              "      <td>863535.0</td>\n",
              "      <td>NaN</td>\n",
              "    </tr>\n",
              "    <tr>\n",
              "      <th>209</th>\n",
              "      <td>Yemen</td>\n",
              "      <td>1976.0</td>\n",
              "      <td>571.0</td>\n",
              "      <td>NaN</td>\n",
              "    </tr>\n",
              "    <tr>\n",
              "      <th>210</th>\n",
              "      <td>Zambia</td>\n",
              "      <td>12415.0</td>\n",
              "      <td>292.0</td>\n",
              "      <td>NaN</td>\n",
              "    </tr>\n",
              "    <tr>\n",
              "      <th>211</th>\n",
              "      <td>Zimbabwe</td>\n",
              "      <td>6638.0</td>\n",
              "      <td>206.0</td>\n",
              "      <td>97272.0</td>\n",
              "    </tr>\n",
              "  </tbody>\n",
              "</table>\n",
              "<p>212 rows × 4 columns</p>\n",
              "</div>"
            ],
            "text/plain": [
              "           location  total_cases  total_deaths  total_tests\n",
              "0       Afghanistan      38243.0        1409.0          NaN\n",
              "1           Albania       9728.0         296.0          NaN\n",
              "2           Algeria      45158.0        1525.0          NaN\n",
              "3           Andorra       1199.0          53.0          NaN\n",
              "4            Angola       2729.0         109.0          NaN\n",
              "..              ...          ...           ...          ...\n",
              "207  Western Sahara        766.0           1.0          NaN\n",
              "208           World   26059065.0      863535.0          NaN\n",
              "209           Yemen       1976.0         571.0          NaN\n",
              "210          Zambia      12415.0         292.0          NaN\n",
              "211        Zimbabwe       6638.0         206.0      97272.0\n",
              "\n",
              "[212 rows x 4 columns]"
            ]
          },
          "metadata": {
            "tags": []
          },
          "execution_count": 74
        }
      ]
    },
    {
      "cell_type": "markdown",
      "metadata": {
        "id": "0ox82NjEvQ_9"
      },
      "source": [
        "**Q: Count the number of countries for which the `total_tests` data is missing.**\n",
        "\n",
        "*Hint: Use the `.isna` method.*"
      ]
    },
    {
      "cell_type": "code",
      "metadata": {
        "id": "0TpT5A7tvQ_9"
      },
      "source": [
        "total_tests_missing = covid_data_df['total_tests'].isna().sum()"
      ],
      "execution_count": null,
      "outputs": []
    },
    {
      "cell_type": "code",
      "metadata": {
        "id": "CiAzsSUAvRAA",
        "outputId": "3cd7f9af-6ac0-4a39-afe5-da3ced6a638d",
        "colab": {
          "base_uri": "https://localhost:8080/",
          "height": 34
        }
      },
      "source": [
        "print(\"The data for total tests is missing for {} countries.\".format(int(total_tests_missing)))"
      ],
      "execution_count": null,
      "outputs": [
        {
          "output_type": "stream",
          "text": [
            "The data for total tests is missing for 122 countries.\n"
          ],
          "name": "stdout"
        }
      ]
    },
    {
      "cell_type": "code",
      "metadata": {
        "id": "tpIzDY2gvRAD",
        "outputId": "9ea4464e-77a1-4546-8166-62c28f9db64d",
        "colab": {
          "base_uri": "https://localhost:8080/",
          "height": 86
        }
      },
      "source": [
        "jovian.commit(project='pandas-practice-assignment', environment=None)"
      ],
      "execution_count": null,
      "outputs": [
        {
          "output_type": "stream",
          "text": [
            "[jovian] Detected Colab notebook...\u001b[0m\n",
            "[jovian] Uploading colab notebook to Jovian...\u001b[0m\n",
            "[jovian] Committed successfully! https://jovian.ml/2017meb1219/pandas-practice-assignment\u001b[0m\n"
          ],
          "name": "stdout"
        },
        {
          "output_type": "execute_result",
          "data": {
            "application/vnd.google.colaboratory.intrinsic+json": {
              "type": "string"
            },
            "text/plain": [
              "'https://jovian.ml/2017meb1219/pandas-practice-assignment'"
            ]
          },
          "metadata": {
            "tags": []
          },
          "execution_count": 84
        }
      ]
    },
    {
      "cell_type": "markdown",
      "metadata": {
        "id": "hrf7tqw6vRAG"
      },
      "source": [
        "Let's merge the two data frames, and compute some more metrics.\n",
        "\n",
        "**Q: Merge `countries_df` with `covid_data_df` on the `location` column.**\n",
        "\n",
        "*Hint: Use the `.merge` method on `countries_df`."
      ]
    },
    {
      "cell_type": "code",
      "metadata": {
        "id": "Ykyw10E2vRAG"
      },
      "source": [
        "combined_df = countries_df.merge(covid_data_df)"
      ],
      "execution_count": null,
      "outputs": []
    },
    {
      "cell_type": "code",
      "metadata": {
        "id": "Rr06Vg60vRAI",
        "outputId": "a008a252-3488-4574-c4dc-625fb518e7d1",
        "colab": {
          "base_uri": "https://localhost:8080/",
          "height": 402
        }
      },
      "source": [
        "combined_df"
      ],
      "execution_count": null,
      "outputs": [
        {
          "output_type": "execute_result",
          "data": {
            "text/html": [
              "<div>\n",
              "<style scoped>\n",
              "    .dataframe tbody tr th:only-of-type {\n",
              "        vertical-align: middle;\n",
              "    }\n",
              "\n",
              "    .dataframe tbody tr th {\n",
              "        vertical-align: top;\n",
              "    }\n",
              "\n",
              "    .dataframe thead th {\n",
              "        text-align: right;\n",
              "    }\n",
              "</style>\n",
              "<table border=\"1\" class=\"dataframe\">\n",
              "  <thead>\n",
              "    <tr style=\"text-align: right;\">\n",
              "      <th></th>\n",
              "      <th>location</th>\n",
              "      <th>continent</th>\n",
              "      <th>population</th>\n",
              "      <th>life_expectancy</th>\n",
              "      <th>hospital_beds_per_thousand</th>\n",
              "      <th>gdp_per_capita</th>\n",
              "      <th>total_cases</th>\n",
              "      <th>total_deaths</th>\n",
              "      <th>total_tests</th>\n",
              "    </tr>\n",
              "  </thead>\n",
              "  <tbody>\n",
              "    <tr>\n",
              "      <th>0</th>\n",
              "      <td>Afghanistan</td>\n",
              "      <td>Asia</td>\n",
              "      <td>38928341.0</td>\n",
              "      <td>64.83</td>\n",
              "      <td>0.50</td>\n",
              "      <td>1803.987</td>\n",
              "      <td>38243.0</td>\n",
              "      <td>1409.0</td>\n",
              "      <td>NaN</td>\n",
              "    </tr>\n",
              "    <tr>\n",
              "      <th>1</th>\n",
              "      <td>Albania</td>\n",
              "      <td>Europe</td>\n",
              "      <td>2877800.0</td>\n",
              "      <td>78.57</td>\n",
              "      <td>2.89</td>\n",
              "      <td>11803.431</td>\n",
              "      <td>9728.0</td>\n",
              "      <td>296.0</td>\n",
              "      <td>NaN</td>\n",
              "    </tr>\n",
              "    <tr>\n",
              "      <th>2</th>\n",
              "      <td>Algeria</td>\n",
              "      <td>Africa</td>\n",
              "      <td>43851043.0</td>\n",
              "      <td>76.88</td>\n",
              "      <td>1.90</td>\n",
              "      <td>13913.839</td>\n",
              "      <td>45158.0</td>\n",
              "      <td>1525.0</td>\n",
              "      <td>NaN</td>\n",
              "    </tr>\n",
              "    <tr>\n",
              "      <th>3</th>\n",
              "      <td>Andorra</td>\n",
              "      <td>Europe</td>\n",
              "      <td>77265.0</td>\n",
              "      <td>83.73</td>\n",
              "      <td>NaN</td>\n",
              "      <td>NaN</td>\n",
              "      <td>1199.0</td>\n",
              "      <td>53.0</td>\n",
              "      <td>NaN</td>\n",
              "    </tr>\n",
              "    <tr>\n",
              "      <th>4</th>\n",
              "      <td>Angola</td>\n",
              "      <td>Africa</td>\n",
              "      <td>32866268.0</td>\n",
              "      <td>61.15</td>\n",
              "      <td>NaN</td>\n",
              "      <td>5819.495</td>\n",
              "      <td>2729.0</td>\n",
              "      <td>109.0</td>\n",
              "      <td>NaN</td>\n",
              "    </tr>\n",
              "    <tr>\n",
              "      <th>...</th>\n",
              "      <td>...</td>\n",
              "      <td>...</td>\n",
              "      <td>...</td>\n",
              "      <td>...</td>\n",
              "      <td>...</td>\n",
              "      <td>...</td>\n",
              "      <td>...</td>\n",
              "      <td>...</td>\n",
              "      <td>...</td>\n",
              "    </tr>\n",
              "    <tr>\n",
              "      <th>205</th>\n",
              "      <td>Vietnam</td>\n",
              "      <td>Asia</td>\n",
              "      <td>97338583.0</td>\n",
              "      <td>75.40</td>\n",
              "      <td>2.60</td>\n",
              "      <td>6171.884</td>\n",
              "      <td>1046.0</td>\n",
              "      <td>35.0</td>\n",
              "      <td>261004.0</td>\n",
              "    </tr>\n",
              "    <tr>\n",
              "      <th>206</th>\n",
              "      <td>Western Sahara</td>\n",
              "      <td>Africa</td>\n",
              "      <td>597330.0</td>\n",
              "      <td>70.26</td>\n",
              "      <td>NaN</td>\n",
              "      <td>NaN</td>\n",
              "      <td>766.0</td>\n",
              "      <td>1.0</td>\n",
              "      <td>NaN</td>\n",
              "    </tr>\n",
              "    <tr>\n",
              "      <th>207</th>\n",
              "      <td>Yemen</td>\n",
              "      <td>Asia</td>\n",
              "      <td>29825968.0</td>\n",
              "      <td>66.12</td>\n",
              "      <td>0.70</td>\n",
              "      <td>1479.147</td>\n",
              "      <td>1976.0</td>\n",
              "      <td>571.0</td>\n",
              "      <td>NaN</td>\n",
              "    </tr>\n",
              "    <tr>\n",
              "      <th>208</th>\n",
              "      <td>Zambia</td>\n",
              "      <td>Africa</td>\n",
              "      <td>18383956.0</td>\n",
              "      <td>63.89</td>\n",
              "      <td>2.00</td>\n",
              "      <td>3689.251</td>\n",
              "      <td>12415.0</td>\n",
              "      <td>292.0</td>\n",
              "      <td>NaN</td>\n",
              "    </tr>\n",
              "    <tr>\n",
              "      <th>209</th>\n",
              "      <td>Zimbabwe</td>\n",
              "      <td>Africa</td>\n",
              "      <td>14862927.0</td>\n",
              "      <td>61.49</td>\n",
              "      <td>1.70</td>\n",
              "      <td>1899.775</td>\n",
              "      <td>6638.0</td>\n",
              "      <td>206.0</td>\n",
              "      <td>97272.0</td>\n",
              "    </tr>\n",
              "  </tbody>\n",
              "</table>\n",
              "<p>210 rows × 9 columns</p>\n",
              "</div>"
            ],
            "text/plain": [
              "           location continent  ...  total_deaths  total_tests\n",
              "0       Afghanistan      Asia  ...        1409.0          NaN\n",
              "1           Albania    Europe  ...         296.0          NaN\n",
              "2           Algeria    Africa  ...        1525.0          NaN\n",
              "3           Andorra    Europe  ...          53.0          NaN\n",
              "4            Angola    Africa  ...         109.0          NaN\n",
              "..              ...       ...  ...           ...          ...\n",
              "205         Vietnam      Asia  ...          35.0     261004.0\n",
              "206  Western Sahara    Africa  ...           1.0          NaN\n",
              "207           Yemen      Asia  ...         571.0          NaN\n",
              "208          Zambia    Africa  ...         292.0          NaN\n",
              "209        Zimbabwe    Africa  ...         206.0      97272.0\n",
              "\n",
              "[210 rows x 9 columns]"
            ]
          },
          "metadata": {
            "tags": []
          },
          "execution_count": 86
        }
      ]
    },
    {
      "cell_type": "code",
      "metadata": {
        "id": "JywzMLipvRAL",
        "outputId": "5b860f2d-7477-4ed7-e6c9-f99fbf95993e",
        "colab": {
          "base_uri": "https://localhost:8080/",
          "height": 86
        }
      },
      "source": [
        "jovian.commit(project='pandas-practice-assignment', environment=None)"
      ],
      "execution_count": null,
      "outputs": [
        {
          "output_type": "stream",
          "text": [
            "[jovian] Detected Colab notebook...\u001b[0m\n",
            "[jovian] Uploading colab notebook to Jovian...\u001b[0m\n",
            "[jovian] Committed successfully! https://jovian.ml/2017meb1219/pandas-practice-assignment\u001b[0m\n"
          ],
          "name": "stdout"
        },
        {
          "output_type": "execute_result",
          "data": {
            "application/vnd.google.colaboratory.intrinsic+json": {
              "type": "string"
            },
            "text/plain": [
              "'https://jovian.ml/2017meb1219/pandas-practice-assignment'"
            ]
          },
          "metadata": {
            "tags": []
          },
          "execution_count": 87
        }
      ]
    },
    {
      "cell_type": "markdown",
      "metadata": {
        "id": "hmbgpbxHvRAO"
      },
      "source": [
        "**Q: Add columns `tests_per_million`, `cases_per_million` and `deaths_per_million` into `combined_df`.**"
      ]
    },
    {
      "cell_type": "code",
      "metadata": {
        "id": "CE-yKRROvRAO"
      },
      "source": [
        "combined_df['tests_per_million'] = combined_df['total_tests'] * 1e6 / combined_df['population']"
      ],
      "execution_count": null,
      "outputs": []
    },
    {
      "cell_type": "code",
      "metadata": {
        "id": "n1PWM1wLvRAQ"
      },
      "source": [
        "combined_df['cases_per_million'] = combined_df['total_cases'] * 1e6 / combined_df['population']"
      ],
      "execution_count": null,
      "outputs": []
    },
    {
      "cell_type": "code",
      "metadata": {
        "id": "FcXMjW-uvRAS"
      },
      "source": [
        "combined_df['deaths_per_million'] = combined_df['total_deaths'] * 1e6 / combined_df['population']"
      ],
      "execution_count": null,
      "outputs": []
    },
    {
      "cell_type": "code",
      "metadata": {
        "id": "4BkE2Ls7vRAV",
        "outputId": "7e61ea83-9cf6-4517-9dbe-be1d83efaaa5",
        "colab": {
          "base_uri": "https://localhost:8080/",
          "height": 438
        }
      },
      "source": [
        "combined_df"
      ],
      "execution_count": null,
      "outputs": [
        {
          "output_type": "execute_result",
          "data": {
            "text/html": [
              "<div>\n",
              "<style scoped>\n",
              "    .dataframe tbody tr th:only-of-type {\n",
              "        vertical-align: middle;\n",
              "    }\n",
              "\n",
              "    .dataframe tbody tr th {\n",
              "        vertical-align: top;\n",
              "    }\n",
              "\n",
              "    .dataframe thead th {\n",
              "        text-align: right;\n",
              "    }\n",
              "</style>\n",
              "<table border=\"1\" class=\"dataframe\">\n",
              "  <thead>\n",
              "    <tr style=\"text-align: right;\">\n",
              "      <th></th>\n",
              "      <th>location</th>\n",
              "      <th>continent</th>\n",
              "      <th>population</th>\n",
              "      <th>life_expectancy</th>\n",
              "      <th>hospital_beds_per_thousand</th>\n",
              "      <th>gdp_per_capita</th>\n",
              "      <th>total_cases</th>\n",
              "      <th>total_deaths</th>\n",
              "      <th>total_tests</th>\n",
              "      <th>tests_per_million</th>\n",
              "      <th>cases_per_million</th>\n",
              "      <th>deaths_per_million</th>\n",
              "    </tr>\n",
              "  </thead>\n",
              "  <tbody>\n",
              "    <tr>\n",
              "      <th>0</th>\n",
              "      <td>Afghanistan</td>\n",
              "      <td>Asia</td>\n",
              "      <td>38928341.0</td>\n",
              "      <td>64.83</td>\n",
              "      <td>0.50</td>\n",
              "      <td>1803.987</td>\n",
              "      <td>38243.0</td>\n",
              "      <td>1409.0</td>\n",
              "      <td>NaN</td>\n",
              "      <td>NaN</td>\n",
              "      <td>982.394806</td>\n",
              "      <td>36.194710</td>\n",
              "    </tr>\n",
              "    <tr>\n",
              "      <th>1</th>\n",
              "      <td>Albania</td>\n",
              "      <td>Europe</td>\n",
              "      <td>2877800.0</td>\n",
              "      <td>78.57</td>\n",
              "      <td>2.89</td>\n",
              "      <td>11803.431</td>\n",
              "      <td>9728.0</td>\n",
              "      <td>296.0</td>\n",
              "      <td>NaN</td>\n",
              "      <td>NaN</td>\n",
              "      <td>3380.359997</td>\n",
              "      <td>102.856349</td>\n",
              "    </tr>\n",
              "    <tr>\n",
              "      <th>2</th>\n",
              "      <td>Algeria</td>\n",
              "      <td>Africa</td>\n",
              "      <td>43851043.0</td>\n",
              "      <td>76.88</td>\n",
              "      <td>1.90</td>\n",
              "      <td>13913.839</td>\n",
              "      <td>45158.0</td>\n",
              "      <td>1525.0</td>\n",
              "      <td>NaN</td>\n",
              "      <td>NaN</td>\n",
              "      <td>1029.804468</td>\n",
              "      <td>34.776824</td>\n",
              "    </tr>\n",
              "    <tr>\n",
              "      <th>3</th>\n",
              "      <td>Andorra</td>\n",
              "      <td>Europe</td>\n",
              "      <td>77265.0</td>\n",
              "      <td>83.73</td>\n",
              "      <td>NaN</td>\n",
              "      <td>NaN</td>\n",
              "      <td>1199.0</td>\n",
              "      <td>53.0</td>\n",
              "      <td>NaN</td>\n",
              "      <td>NaN</td>\n",
              "      <td>15518.022390</td>\n",
              "      <td>685.950948</td>\n",
              "    </tr>\n",
              "    <tr>\n",
              "      <th>4</th>\n",
              "      <td>Angola</td>\n",
              "      <td>Africa</td>\n",
              "      <td>32866268.0</td>\n",
              "      <td>61.15</td>\n",
              "      <td>NaN</td>\n",
              "      <td>5819.495</td>\n",
              "      <td>2729.0</td>\n",
              "      <td>109.0</td>\n",
              "      <td>NaN</td>\n",
              "      <td>NaN</td>\n",
              "      <td>83.033462</td>\n",
              "      <td>3.316470</td>\n",
              "    </tr>\n",
              "    <tr>\n",
              "      <th>...</th>\n",
              "      <td>...</td>\n",
              "      <td>...</td>\n",
              "      <td>...</td>\n",
              "      <td>...</td>\n",
              "      <td>...</td>\n",
              "      <td>...</td>\n",
              "      <td>...</td>\n",
              "      <td>...</td>\n",
              "      <td>...</td>\n",
              "      <td>...</td>\n",
              "      <td>...</td>\n",
              "      <td>...</td>\n",
              "    </tr>\n",
              "    <tr>\n",
              "      <th>205</th>\n",
              "      <td>Vietnam</td>\n",
              "      <td>Asia</td>\n",
              "      <td>97338583.0</td>\n",
              "      <td>75.40</td>\n",
              "      <td>2.60</td>\n",
              "      <td>6171.884</td>\n",
              "      <td>1046.0</td>\n",
              "      <td>35.0</td>\n",
              "      <td>261004.0</td>\n",
              "      <td>2681.403324</td>\n",
              "      <td>10.745996</td>\n",
              "      <td>0.359570</td>\n",
              "    </tr>\n",
              "    <tr>\n",
              "      <th>206</th>\n",
              "      <td>Western Sahara</td>\n",
              "      <td>Africa</td>\n",
              "      <td>597330.0</td>\n",
              "      <td>70.26</td>\n",
              "      <td>NaN</td>\n",
              "      <td>NaN</td>\n",
              "      <td>766.0</td>\n",
              "      <td>1.0</td>\n",
              "      <td>NaN</td>\n",
              "      <td>NaN</td>\n",
              "      <td>1282.373228</td>\n",
              "      <td>1.674116</td>\n",
              "    </tr>\n",
              "    <tr>\n",
              "      <th>207</th>\n",
              "      <td>Yemen</td>\n",
              "      <td>Asia</td>\n",
              "      <td>29825968.0</td>\n",
              "      <td>66.12</td>\n",
              "      <td>0.70</td>\n",
              "      <td>1479.147</td>\n",
              "      <td>1976.0</td>\n",
              "      <td>571.0</td>\n",
              "      <td>NaN</td>\n",
              "      <td>NaN</td>\n",
              "      <td>66.250993</td>\n",
              "      <td>19.144391</td>\n",
              "    </tr>\n",
              "    <tr>\n",
              "      <th>208</th>\n",
              "      <td>Zambia</td>\n",
              "      <td>Africa</td>\n",
              "      <td>18383956.0</td>\n",
              "      <td>63.89</td>\n",
              "      <td>2.00</td>\n",
              "      <td>3689.251</td>\n",
              "      <td>12415.0</td>\n",
              "      <td>292.0</td>\n",
              "      <td>NaN</td>\n",
              "      <td>NaN</td>\n",
              "      <td>675.317108</td>\n",
              "      <td>15.883415</td>\n",
              "    </tr>\n",
              "    <tr>\n",
              "      <th>209</th>\n",
              "      <td>Zimbabwe</td>\n",
              "      <td>Africa</td>\n",
              "      <td>14862927.0</td>\n",
              "      <td>61.49</td>\n",
              "      <td>1.70</td>\n",
              "      <td>1899.775</td>\n",
              "      <td>6638.0</td>\n",
              "      <td>206.0</td>\n",
              "      <td>97272.0</td>\n",
              "      <td>6544.605918</td>\n",
              "      <td>446.614587</td>\n",
              "      <td>13.859989</td>\n",
              "    </tr>\n",
              "  </tbody>\n",
              "</table>\n",
              "<p>210 rows × 12 columns</p>\n",
              "</div>"
            ],
            "text/plain": [
              "           location continent  ...  cases_per_million  deaths_per_million\n",
              "0       Afghanistan      Asia  ...         982.394806           36.194710\n",
              "1           Albania    Europe  ...        3380.359997          102.856349\n",
              "2           Algeria    Africa  ...        1029.804468           34.776824\n",
              "3           Andorra    Europe  ...       15518.022390          685.950948\n",
              "4            Angola    Africa  ...          83.033462            3.316470\n",
              "..              ...       ...  ...                ...                 ...\n",
              "205         Vietnam      Asia  ...          10.745996            0.359570\n",
              "206  Western Sahara    Africa  ...        1282.373228            1.674116\n",
              "207           Yemen      Asia  ...          66.250993           19.144391\n",
              "208          Zambia    Africa  ...         675.317108           15.883415\n",
              "209        Zimbabwe    Africa  ...         446.614587           13.859989\n",
              "\n",
              "[210 rows x 12 columns]"
            ]
          },
          "metadata": {
            "tags": []
          },
          "execution_count": 91
        }
      ]
    },
    {
      "cell_type": "code",
      "metadata": {
        "id": "OQR_fSYVvRAW",
        "outputId": "49db1f93-1ee3-438f-d9b5-2342b1de58af",
        "colab": {
          "base_uri": "https://localhost:8080/",
          "height": 86
        }
      },
      "source": [
        "jovian.commit(project='pandas-practice-assignment', environment=None)"
      ],
      "execution_count": null,
      "outputs": [
        {
          "output_type": "stream",
          "text": [
            "[jovian] Detected Colab notebook...\u001b[0m\n",
            "[jovian] Uploading colab notebook to Jovian...\u001b[0m\n",
            "[jovian] Committed successfully! https://jovian.ml/2017meb1219/pandas-practice-assignment\u001b[0m\n"
          ],
          "name": "stdout"
        },
        {
          "output_type": "execute_result",
          "data": {
            "application/vnd.google.colaboratory.intrinsic+json": {
              "type": "string"
            },
            "text/plain": [
              "'https://jovian.ml/2017meb1219/pandas-practice-assignment'"
            ]
          },
          "metadata": {
            "tags": []
          },
          "execution_count": 92
        }
      ]
    },
    {
      "cell_type": "markdown",
      "metadata": {
        "id": "Ly_roQ_wvRAa"
      },
      "source": [
        "**Q: Create a dataframe with 10 countires that have highest number of tests per million people.**"
      ]
    },
    {
      "cell_type": "code",
      "metadata": {
        "id": "sUvWS6tyvRAb"
      },
      "source": [
        "highest_tests_df = combined_df[['location','tests_per_million']].sort_values('tests_per_million',ascending=False)"
      ],
      "execution_count": null,
      "outputs": []
    },
    {
      "cell_type": "code",
      "metadata": {
        "id": "VAYnU9G9vRAc",
        "outputId": "1375c845-b1bd-42ca-8132-f39aca2cbfec",
        "colab": {
          "base_uri": "https://localhost:8080/",
          "height": 343
        }
      },
      "source": [
        "highest_tests_df[:10]"
      ],
      "execution_count": null,
      "outputs": [
        {
          "output_type": "execute_result",
          "data": {
            "text/html": [
              "<div>\n",
              "<style scoped>\n",
              "    .dataframe tbody tr th:only-of-type {\n",
              "        vertical-align: middle;\n",
              "    }\n",
              "\n",
              "    .dataframe tbody tr th {\n",
              "        vertical-align: top;\n",
              "    }\n",
              "\n",
              "    .dataframe thead th {\n",
              "        text-align: right;\n",
              "    }\n",
              "</style>\n",
              "<table border=\"1\" class=\"dataframe\">\n",
              "  <thead>\n",
              "    <tr style=\"text-align: right;\">\n",
              "      <th></th>\n",
              "      <th>location</th>\n",
              "      <th>tests_per_million</th>\n",
              "    </tr>\n",
              "  </thead>\n",
              "  <tbody>\n",
              "    <tr>\n",
              "      <th>197</th>\n",
              "      <td>United Arab Emirates</td>\n",
              "      <td>725696.635121</td>\n",
              "    </tr>\n",
              "    <tr>\n",
              "      <th>14</th>\n",
              "      <td>Bahrain</td>\n",
              "      <td>657527.137965</td>\n",
              "    </tr>\n",
              "    <tr>\n",
              "      <th>115</th>\n",
              "      <td>Luxembourg</td>\n",
              "      <td>616349.508607</td>\n",
              "    </tr>\n",
              "    <tr>\n",
              "      <th>122</th>\n",
              "      <td>Malta</td>\n",
              "      <td>427004.183096</td>\n",
              "    </tr>\n",
              "    <tr>\n",
              "      <th>53</th>\n",
              "      <td>Denmark</td>\n",
              "      <td>422621.755488</td>\n",
              "    </tr>\n",
              "    <tr>\n",
              "      <th>96</th>\n",
              "      <td>Israel</td>\n",
              "      <td>271962.665303</td>\n",
              "    </tr>\n",
              "    <tr>\n",
              "      <th>89</th>\n",
              "      <td>Iceland</td>\n",
              "      <td>260304.761905</td>\n",
              "    </tr>\n",
              "    <tr>\n",
              "      <th>157</th>\n",
              "      <td>Russia</td>\n",
              "      <td>254750.159763</td>\n",
              "    </tr>\n",
              "    <tr>\n",
              "      <th>199</th>\n",
              "      <td>United States</td>\n",
              "      <td>253467.507769</td>\n",
              "    </tr>\n",
              "    <tr>\n",
              "      <th>10</th>\n",
              "      <td>Australia</td>\n",
              "      <td>245326.517406</td>\n",
              "    </tr>\n",
              "  </tbody>\n",
              "</table>\n",
              "</div>"
            ],
            "text/plain": [
              "                 location  tests_per_million\n",
              "197  United Arab Emirates      725696.635121\n",
              "14                Bahrain      657527.137965\n",
              "115            Luxembourg      616349.508607\n",
              "122                 Malta      427004.183096\n",
              "53                Denmark      422621.755488\n",
              "96                 Israel      271962.665303\n",
              "89                Iceland      260304.761905\n",
              "157                Russia      254750.159763\n",
              "199         United States      253467.507769\n",
              "10              Australia      245326.517406"
            ]
          },
          "metadata": {
            "tags": []
          },
          "execution_count": 104
        }
      ]
    },
    {
      "cell_type": "code",
      "metadata": {
        "id": "d7SMAFd1vRAf",
        "outputId": "fb49a343-861e-4cd8-86f6-4f6ac3be9366",
        "colab": {
          "base_uri": "https://localhost:8080/",
          "height": 86
        }
      },
      "source": [
        "jovian.commit(project='pandas-practice-assignment', environment=None)"
      ],
      "execution_count": null,
      "outputs": [
        {
          "output_type": "stream",
          "text": [
            "[jovian] Detected Colab notebook...\u001b[0m\n",
            "[jovian] Uploading colab notebook to Jovian...\u001b[0m\n",
            "[jovian] Committed successfully! https://jovian.ml/2017meb1219/pandas-practice-assignment\u001b[0m\n"
          ],
          "name": "stdout"
        },
        {
          "output_type": "execute_result",
          "data": {
            "application/vnd.google.colaboratory.intrinsic+json": {
              "type": "string"
            },
            "text/plain": [
              "'https://jovian.ml/2017meb1219/pandas-practice-assignment'"
            ]
          },
          "metadata": {
            "tags": []
          },
          "execution_count": 96
        }
      ]
    },
    {
      "cell_type": "markdown",
      "metadata": {
        "id": "xCxZgRLNvRAg"
      },
      "source": [
        "**Q: Create a dataframe with 10 countires that have highest number of positive cases per million people.**"
      ]
    },
    {
      "cell_type": "code",
      "metadata": {
        "id": "1HFtBTzYvRAh"
      },
      "source": [
        "highest_cases_df = combined_df[['location','cases_per_million']].sort_values('cases_per_million',ascending=False)"
      ],
      "execution_count": null,
      "outputs": []
    },
    {
      "cell_type": "code",
      "metadata": {
        "id": "vkSZ-QSnvRAk",
        "outputId": "e81caf56-5af8-4a32-fc3d-2aaf265afaa7",
        "colab": {
          "base_uri": "https://localhost:8080/",
          "height": 343
        }
      },
      "source": [
        "highest_cases_df[:10]"
      ],
      "execution_count": null,
      "outputs": [
        {
          "output_type": "execute_result",
          "data": {
            "text/html": [
              "<div>\n",
              "<style scoped>\n",
              "    .dataframe tbody tr th:only-of-type {\n",
              "        vertical-align: middle;\n",
              "    }\n",
              "\n",
              "    .dataframe tbody tr th {\n",
              "        vertical-align: top;\n",
              "    }\n",
              "\n",
              "    .dataframe thead th {\n",
              "        text-align: right;\n",
              "    }\n",
              "</style>\n",
              "<table border=\"1\" class=\"dataframe\">\n",
              "  <thead>\n",
              "    <tr style=\"text-align: right;\">\n",
              "      <th></th>\n",
              "      <th>location</th>\n",
              "      <th>cases_per_million</th>\n",
              "    </tr>\n",
              "  </thead>\n",
              "  <tbody>\n",
              "    <tr>\n",
              "      <th>155</th>\n",
              "      <td>Qatar</td>\n",
              "      <td>41375.743650</td>\n",
              "    </tr>\n",
              "    <tr>\n",
              "      <th>14</th>\n",
              "      <td>Bahrain</td>\n",
              "      <td>30818.361490</td>\n",
              "    </tr>\n",
              "    <tr>\n",
              "      <th>147</th>\n",
              "      <td>Panama</td>\n",
              "      <td>21805.112117</td>\n",
              "    </tr>\n",
              "    <tr>\n",
              "      <th>40</th>\n",
              "      <td>Chile</td>\n",
              "      <td>21695.671982</td>\n",
              "    </tr>\n",
              "    <tr>\n",
              "      <th>162</th>\n",
              "      <td>San Marino</td>\n",
              "      <td>21657.139490</td>\n",
              "    </tr>\n",
              "    <tr>\n",
              "      <th>9</th>\n",
              "      <td>Aruba</td>\n",
              "      <td>20708.839893</td>\n",
              "    </tr>\n",
              "    <tr>\n",
              "      <th>105</th>\n",
              "      <td>Kuwait</td>\n",
              "      <td>20249.789079</td>\n",
              "    </tr>\n",
              "    <tr>\n",
              "      <th>150</th>\n",
              "      <td>Peru</td>\n",
              "      <td>20121.318048</td>\n",
              "    </tr>\n",
              "    <tr>\n",
              "      <th>27</th>\n",
              "      <td>Brazil</td>\n",
              "      <td>18808.224105</td>\n",
              "    </tr>\n",
              "    <tr>\n",
              "      <th>199</th>\n",
              "      <td>United States</td>\n",
              "      <td>18472.377957</td>\n",
              "    </tr>\n",
              "  </tbody>\n",
              "</table>\n",
              "</div>"
            ],
            "text/plain": [
              "          location  cases_per_million\n",
              "155          Qatar       41375.743650\n",
              "14         Bahrain       30818.361490\n",
              "147         Panama       21805.112117\n",
              "40           Chile       21695.671982\n",
              "162     San Marino       21657.139490\n",
              "9            Aruba       20708.839893\n",
              "105         Kuwait       20249.789079\n",
              "150           Peru       20121.318048\n",
              "27          Brazil       18808.224105\n",
              "199  United States       18472.377957"
            ]
          },
          "metadata": {
            "tags": []
          },
          "execution_count": 102
        }
      ]
    },
    {
      "cell_type": "code",
      "metadata": {
        "id": "QkfvPopFvRAm",
        "outputId": "5a96d36e-2e2a-473d-9200-69f881756c54",
        "colab": {
          "base_uri": "https://localhost:8080/",
          "height": 86
        }
      },
      "source": [
        "jovian.commit(project='pandas-practice-assignment', environment=None)"
      ],
      "execution_count": null,
      "outputs": [
        {
          "output_type": "stream",
          "text": [
            "[jovian] Detected Colab notebook...\u001b[0m\n",
            "[jovian] Uploading colab notebook to Jovian...\u001b[0m\n",
            "[jovian] Committed successfully! https://jovian.ml/2017meb1219/pandas-practice-assignment\u001b[0m\n"
          ],
          "name": "stdout"
        },
        {
          "output_type": "execute_result",
          "data": {
            "application/vnd.google.colaboratory.intrinsic+json": {
              "type": "string"
            },
            "text/plain": [
              "'https://jovian.ml/2017meb1219/pandas-practice-assignment'"
            ]
          },
          "metadata": {
            "tags": []
          },
          "execution_count": 105
        }
      ]
    },
    {
      "cell_type": "markdown",
      "metadata": {
        "id": "XFrv4MGTvRAn"
      },
      "source": [
        "**Q: Create a dataframe with 10 countires that have highest number of deaths cases per million people?**"
      ]
    },
    {
      "cell_type": "code",
      "metadata": {
        "id": "UCpxD-UuvRAn"
      },
      "source": [
        "highest_deaths_df = combined_df[['location','deaths_per_million']].sort_values('deaths_per_million',ascending=False)"
      ],
      "execution_count": null,
      "outputs": []
    },
    {
      "cell_type": "code",
      "metadata": {
        "id": "Zou-Ijn1vRAq",
        "outputId": "684792c5-5e5c-4848-f040-2359930c88e9",
        "colab": {
          "base_uri": "https://localhost:8080/",
          "height": 343
        }
      },
      "source": [
        "highest_deaths_df[:10]"
      ],
      "execution_count": null,
      "outputs": [
        {
          "output_type": "execute_result",
          "data": {
            "text/html": [
              "<div>\n",
              "<style scoped>\n",
              "    .dataframe tbody tr th:only-of-type {\n",
              "        vertical-align: middle;\n",
              "    }\n",
              "\n",
              "    .dataframe tbody tr th {\n",
              "        vertical-align: top;\n",
              "    }\n",
              "\n",
              "    .dataframe thead th {\n",
              "        text-align: right;\n",
              "    }\n",
              "</style>\n",
              "<table border=\"1\" class=\"dataframe\">\n",
              "  <thead>\n",
              "    <tr style=\"text-align: right;\">\n",
              "      <th></th>\n",
              "      <th>location</th>\n",
              "      <th>deaths_per_million</th>\n",
              "    </tr>\n",
              "  </thead>\n",
              "  <tbody>\n",
              "    <tr>\n",
              "      <th>162</th>\n",
              "      <td>San Marino</td>\n",
              "      <td>1237.550828</td>\n",
              "    </tr>\n",
              "    <tr>\n",
              "      <th>150</th>\n",
              "      <td>Peru</td>\n",
              "      <td>887.393445</td>\n",
              "    </tr>\n",
              "    <tr>\n",
              "      <th>18</th>\n",
              "      <td>Belgium</td>\n",
              "      <td>854.040375</td>\n",
              "    </tr>\n",
              "    <tr>\n",
              "      <th>3</th>\n",
              "      <td>Andorra</td>\n",
              "      <td>685.950948</td>\n",
              "    </tr>\n",
              "    <tr>\n",
              "      <th>177</th>\n",
              "      <td>Spain</td>\n",
              "      <td>624.406705</td>\n",
              "    </tr>\n",
              "    <tr>\n",
              "      <th>198</th>\n",
              "      <td>United Kingdom</td>\n",
              "      <td>611.525168</td>\n",
              "    </tr>\n",
              "    <tr>\n",
              "      <th>40</th>\n",
              "      <td>Chile</td>\n",
              "      <td>593.423100</td>\n",
              "    </tr>\n",
              "    <tr>\n",
              "      <th>97</th>\n",
              "      <td>Italy</td>\n",
              "      <td>587.097697</td>\n",
              "    </tr>\n",
              "    <tr>\n",
              "      <th>27</th>\n",
              "      <td>Brazil</td>\n",
              "      <td>582.331314</td>\n",
              "    </tr>\n",
              "    <tr>\n",
              "      <th>182</th>\n",
              "      <td>Sweden</td>\n",
              "      <td>576.279276</td>\n",
              "    </tr>\n",
              "  </tbody>\n",
              "</table>\n",
              "</div>"
            ],
            "text/plain": [
              "           location  deaths_per_million\n",
              "162      San Marino         1237.550828\n",
              "150            Peru          887.393445\n",
              "18          Belgium          854.040375\n",
              "3           Andorra          685.950948\n",
              "177           Spain          624.406705\n",
              "198  United Kingdom          611.525168\n",
              "40            Chile          593.423100\n",
              "97            Italy          587.097697\n",
              "27           Brazil          582.331314\n",
              "182          Sweden          576.279276"
            ]
          },
          "metadata": {
            "tags": []
          },
          "execution_count": 107
        }
      ]
    },
    {
      "cell_type": "code",
      "metadata": {
        "id": "5dUmSu6wvRAr",
        "outputId": "b56792b6-d367-4620-f6ba-bb9b9dc2ad5e",
        "colab": {
          "base_uri": "https://localhost:8080/",
          "height": 86
        }
      },
      "source": [
        "jovian.commit(project='pandas-practice-assignment-3', environment=None)"
      ],
      "execution_count": null,
      "outputs": [
        {
          "output_type": "stream",
          "text": [
            "[jovian] Detected Colab notebook...\u001b[0m\n",
            "[jovian] Uploading colab notebook to Jovian...\u001b[0m\n",
            "[jovian] Committed successfully! https://jovian.ml/2017meb1219/pandas-practice-assignment-3\u001b[0m\n"
          ],
          "name": "stdout"
        },
        {
          "output_type": "execute_result",
          "data": {
            "application/vnd.google.colaboratory.intrinsic+json": {
              "type": "string"
            },
            "text/plain": [
              "'https://jovian.ml/2017meb1219/pandas-practice-assignment-3'"
            ]
          },
          "metadata": {
            "tags": []
          },
          "execution_count": 108
        }
      ]
    },
    {
      "cell_type": "markdown",
      "metadata": {
        "id": "4pcQRjjxvRAt"
      },
      "source": [
        "**(Optional) Q: Count number of countries that feature in both the lists of \"highest number of tests per million\" and \"highest number of cases per million\".**"
      ]
    },
    {
      "cell_type": "code",
      "metadata": {
        "id": "-HRTor6yvRAu"
      },
      "source": [
        ""
      ],
      "execution_count": null,
      "outputs": []
    },
    {
      "cell_type": "code",
      "metadata": {
        "id": "NGWQtTffvRAv"
      },
      "source": [
        ""
      ],
      "execution_count": null,
      "outputs": []
    },
    {
      "cell_type": "code",
      "metadata": {
        "id": "O8gUoVidvRAy"
      },
      "source": [
        ""
      ],
      "execution_count": null,
      "outputs": []
    },
    {
      "cell_type": "code",
      "metadata": {
        "id": "CcS3bid3vRA0"
      },
      "source": [
        "jovian.commit(project='pandas-practice-assignment', environment=None)"
      ],
      "execution_count": null,
      "outputs": []
    },
    {
      "cell_type": "markdown",
      "metadata": {
        "id": "1A9xyBUQvRA1"
      },
      "source": [
        "**(Optional) Q: Count number of countries that feature in both the lists \"20 countries with lowest GDP per capita\" and \"20 countries with the lowest number of hospital beds per thousand population\". Only consider countries with a population higher than 10 million while creating the list.**"
      ]
    },
    {
      "cell_type": "code",
      "metadata": {
        "id": "mZgabXNqvRA2"
      },
      "source": [
        ""
      ],
      "execution_count": null,
      "outputs": []
    },
    {
      "cell_type": "code",
      "metadata": {
        "id": "jjnaxt5MvRA3"
      },
      "source": [
        ""
      ],
      "execution_count": null,
      "outputs": []
    },
    {
      "cell_type": "code",
      "metadata": {
        "id": "Sq3oeZv6vRA4"
      },
      "source": [
        ""
      ],
      "execution_count": null,
      "outputs": []
    },
    {
      "cell_type": "code",
      "metadata": {
        "id": "8OgruZ3ZvRA5"
      },
      "source": [
        "import jovian"
      ],
      "execution_count": null,
      "outputs": []
    },
    {
      "cell_type": "code",
      "metadata": {
        "id": "7INwC-OuvRA7",
        "outputId": "80fa17b8-7ce0-4434-86e9-9b7dcc0dc764"
      },
      "source": [
        "jovian.commit(project='pandas-practice-assignment', environment=None)"
      ],
      "execution_count": null,
      "outputs": [
        {
          "output_type": "display_data",
          "data": {
            "application/javascript": [
              "window.require && require([\"base/js/namespace\"],function(Jupyter){Jupyter.notebook.save_checkpoint()})"
            ],
            "text/plain": [
              "<IPython.core.display.Javascript object>"
            ]
          },
          "metadata": {
            "tags": []
          }
        },
        {
          "output_type": "stream",
          "text": [
            "[jovian] Attempting to save notebook..\u001b[0m\n"
          ],
          "name": "stdout"
        }
      ]
    },
    {
      "cell_type": "markdown",
      "metadata": {
        "id": "HSl9CsKbvRA_"
      },
      "source": [
        "## Submission \n",
        "\n",
        "Congratulations on making it this far! You've reached the end of this assignment, and you just completed your first real-world data analysis problem. It's time to record one final version of your notebook for submission.\n",
        "\n",
        "Make a submission here by filling the submission form: https://jovian.ml/learn/data-analysis-with-python-zero-to-pandas/assignment/assignment-3-pandas-practice\n",
        "\n",
        "Also make sure to help others on the forum: https://jovian.ml/forum/t/assignment-3-pandas-practice/11225/2"
      ]
    },
    {
      "cell_type": "code",
      "metadata": {
        "id": "14qK3od2vRBA"
      },
      "source": [
        ""
      ],
      "execution_count": null,
      "outputs": []
    }
  ]
}